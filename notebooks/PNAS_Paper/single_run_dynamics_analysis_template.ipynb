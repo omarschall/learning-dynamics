{
 "cells": [
  {
   "cell_type": "code",
   "execution_count": 1,
   "id": "3b6570be",
   "metadata": {},
   "outputs": [],
   "source": [
    "import sys, os, pickle\n",
    "sys.path.append('/scratch/oem214/vanilla-rtrl/')\n",
    "from cluster import *\n",
    "from continual_learning import *\n",
    "from core import *\n",
    "from dynamics import *\n",
    "from functions import *\n",
    "from gen_data import *\n",
    "from learning_algorithms import *\n",
    "from optimizers import *\n",
    "from plotting import *\n",
    "from wrappers import *\n",
    "import matplotlib.pyplot as plt"
   ]
  },
  {
   "cell_type": "code",
   "execution_count": null,
   "id": "08c28696",
   "metadata": {},
   "outputs": [],
   "source": [
    "task = Flip_Flop_Task(3, 0.05, input_magnitudes=None)\n",
    "N_train = 20000\n",
    "N_test = 1000\n",
    "checkpoint_interval = 100\n",
    "sigma = 0\n",
    "\n",
    "data = task.gen_data(N_train, N_test)\n",
    "\n",
    "n_in = task.n_in\n",
    "n_hidden = 32\n",
    "n_out = task.n_out\n",
    "W_in  = np.random.normal(0, np.sqrt(1/(n_in)), (n_hidden, n_in))\n",
    "W_rec = np.random.normal(0, np.sqrt(1/n_hidden), (n_hidden, n_hidden))\n",
    "W_out = np.random.normal(0, np.sqrt(1/(n_hidden)), (n_out, n_hidden))\n",
    "\n",
    "b_rec = np.zeros(n_hidden)\n",
    "b_out = np.zeros(n_out)\n",
    "\n",
    "alpha = 1\n",
    "sigma = 0\n",
    "\n",
    "rnn = RNN(W_in, W_rec, W_out, b_rec, b_out,\n",
    "          activation=tanh,\n",
    "          alpha=alpha,\n",
    "          output=identity,\n",
    "          loss=mean_squared_error)\n",
    "\n",
    "learn_alg = RFLO(rnn, alpha=alpha, L2_reg=0.0001, L1_reg=0.0001)\n",
    "optimizer = SGD_Momentum(lr=0.01, mu=0.6)\n",
    "\n",
    "monitors = []\n",
    "\n",
    "sim = Simulation(rnn)\n",
    "sim.run(data, learn_alg=learn_alg, optimizer=optimizer,\n",
    "        sigma=sigma,\n",
    "        monitors=monitors,\n",
    "        verbose=True,\n",
    "        report_accuracy=False,\n",
    "        report_loss=True,\n",
    "        checkpoint_interval=checkpoint_interval,\n",
    "        checkpoint_optimizer=True)"
   ]
  },
  {
   "cell_type": "code",
   "execution_count": null,
   "id": "671d52be",
   "metadata": {},
   "outputs": [],
   "source": [
    "#Plot final checkpoint results\n",
    "data = task.gen_data(0, 500)\n",
    "plot_output_from_checkpoint(sim.checkpoints[sorted(sim.checkpoints.keys())[-1]], data)"
   ]
  },
  {
   "cell_type": "code",
   "execution_count": null,
   "id": "abbf1d99",
   "metadata": {},
   "outputs": [],
   "source": [
    "file_name = 'job_name'"
   ]
  },
  {
   "cell_type": "code",
   "execution_count": null,
   "id": "5bebe626",
   "metadata": {},
   "outputs": [],
   "source": [
    "### --- SAVE RUN --- ###\n",
    "with open(os.path.join('saved_runs/', file_name), 'wb') as f:\n",
    "    saved_run = {'sim': sim, 'task': task}\n",
    "    pickle.dump(saved_run, f)"
   ]
  },
  {
   "cell_type": "code",
   "execution_count": null,
   "id": "d719edaa",
   "metadata": {},
   "outputs": [],
   "source": [
    "### --- OPEN RUN --- ###\n",
    "with open(os.path.join('saved_runs/', file_name), 'rb') as f:\n",
    "    saved_run = pickle.load(f)\n",
    "    sim = saved_run['sim']\n",
    "    task =saved_run['task']"
   ]
  },
  {
   "cell_type": "code",
   "execution_count": null,
   "id": "63a3f34e",
   "metadata": {},
   "outputs": [],
   "source": [
    "### --- Default topological analysis --- ###\n",
    "topological_analysis(file_name, FP_KE_criterion=0.00001, FP_N=800, ppn=16, compare_n_comp_window=1)"
   ]
  },
  {
   "cell_type": "code",
   "execution_count": null,
   "id": "050877a6",
   "metadata": {},
   "outputs": [],
   "source": [
    "### -- Include geometry --- ###\n",
    "topological_analysis(file_name, FP_find_FPs=True, FP_KE_criterion=0.00001, FP_N=800,\n",
    "                     compare_align_checkpoints=True, compare_aligned_graph=True,\n",
    "                     compare_n_comp_window=1,\n",
    "                     test_N=2000, test_save_data=True, compare_CKA=True,\n",
    "                     compare_PC1=True, compare_PC2=True, compare_PC3=True)"
   ]
  },
  {
   "cell_type": "code",
   "execution_count": null,
   "id": "5fabf608",
   "metadata": {},
   "outputs": [],
   "source": [
    "###Get job status\n",
    "get_ipython().system('squeue -u oem214')"
   ]
  },
  {
   "cell_type": "code",
   "execution_count": null,
   "id": "7737b7a9",
   "metadata": {},
   "outputs": [],
   "source": [
    "file_name = 'job_name'\n",
    "saved_run_name = file_name\n",
    "analysis_job_name = 'analyze_{}'.format(saved_run_name)\n",
    "compare_job_name = 'compare_{}'.format(saved_run_name)\n",
    "\n",
    "results_dir = '/scratch/oem214/learning-dynamics/results/'\n",
    "\n",
    "analysis_result_path = os.path.join(results_dir, analysis_job_name)\n",
    "indices, checkpoints = unpack_analysis_results(analysis_result_path)\n",
    "signals = unpack_compare_result(file_name, checkpoint_stats={'test_loss': get_checkpoint_loss})"
   ]
  },
  {
   "cell_type": "code",
   "execution_count": null,
   "id": "06e52f63",
   "metadata": {},
   "outputs": [],
   "source": [
    "fig = plot_signals(signals, x_values=indices, signal_clips={})"
   ]
  },
  {
   "cell_type": "code",
   "execution_count": null,
   "id": "cd1852ed",
   "metadata": {},
   "outputs": [],
   "source": [
    "plot_kinetic_energy_histograms(indices, checkpoints, red_line=-5)"
   ]
  },
  {
   "cell_type": "code",
   "execution_count": null,
   "id": "7677c7a2",
   "metadata": {},
   "outputs": [],
   "source": [
    "checkpoint_1 = checkpoints['checkpoint_19000']\n",
    "checkpoint_2 = checkpoints['checkpoint_10100']\n",
    "plot_input_dependent_topology(checkpoint_1)"
   ]
  }
 ],
 "metadata": {
  "kernelspec": {
   "display_name": "Python 3",
   "language": "python",
   "name": "python3"
  },
  "language_info": {
   "codemirror_mode": {
    "name": "ipython",
    "version": 3
   },
   "file_extension": ".py",
   "mimetype": "text/x-python",
   "name": "python",
   "nbconvert_exporter": "python",
   "pygments_lexer": "ipython3",
   "version": "3.8.5"
  }
 },
 "nbformat": 4,
 "nbformat_minor": 5
}
