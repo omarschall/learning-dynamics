{
 "cells": [
  {
   "cell_type": "code",
   "execution_count": null,
   "id": "ddd464f7",
   "metadata": {},
   "outputs": [],
   "source": [
    "import sys, os, pickle\n",
    "sys.path.append('/scratch/oem214/vanilla-rtrl/')\n",
    "from cluster import *\n",
    "from continual_learning import *\n",
    "from core import *\n",
    "from dynamics import *\n",
    "from functions import *\n",
    "from gen_data import *\n",
    "from learning_algorithms import *\n",
    "from optimizers import *\n",
    "from plotting import *\n",
    "from wrappers import *"
   ]
  },
  {
   "cell_type": "code",
   "execution_count": null,
   "id": "43f5b630",
   "metadata": {},
   "outputs": [],
   "source": [
    "### --- SET UP ALL CONFIGS --- ###\n",
    "from itertools import product\n",
    "n_seeds = 5\n",
    "macro_configs = config_generator()\n",
    "micro_configs = tuple(product(macro_configs, list(range(n_seeds))))\n",
    "prototype = False\n",
    "\n",
    "### --- SELECT PARTICULAR CONFIG --- ###\n",
    "try:\n",
    "    i_job = int(os.environ['SLURM_ARRAY_TASK_ID']) - 1\n",
    "except KeyError:\n",
    "    i_job = 0\n",
    "    prototype = True\n",
    "params, i_seed = micro_configs[i_job]\n",
    "i_config = i_job//n_seeds\n",
    "\n",
    "new_random_seed_per_condition = True\n",
    "if new_random_seed_per_condition:\n",
    "    np.random.seed(i_job)\n",
    "else: #Match random seeds across conditions\n",
    "    np.random.seed(i_seed)"
   ]
  },
  {
   "cell_type": "code",
   "execution_count": null,
   "id": "90fc9188",
   "metadata": {},
   "outputs": [],
   "source": [
    "task = Flip_Flop_Task(3, 0.05, input_magnitudes=None)\n",
    "N_train = 20000\n",
    "N_test = 2000\n",
    "checkpoint_interval = None\n",
    "sigma = 0\n",
    "\n",
    "data = task.gen_data(N_train, N_test)\n",
    "\n",
    "n_in = task.n_in\n",
    "n_hidden = 32\n",
    "n_out = task.n_out\n",
    "W_in  = np.random.normal(0, np.sqrt(1/(n_in)), (n_hidden, n_in))\n",
    "W_rec = np.random.normal(0, np.sqrt(1/n_hidden), (n_hidden, n_hidden))\n",
    "W_out = np.random.normal(0, np.sqrt(1/(n_hidden)), (n_out, n_hidden))\n",
    "\n",
    "b_rec = np.zeros(n_hidden)\n",
    "b_out = np.zeros(n_out)\n",
    "\n",
    "alpha = 1\n",
    "sigma = 0\n",
    "\n",
    "rnn = RNN(W_in, W_rec, W_out, b_rec, b_out,\n",
    "          activation=tanh,\n",
    "          alpha=alpha,\n",
    "          output=identity,\n",
    "          loss=mean_squared_error)\n",
    "\n",
    "learn_alg = RFLO(rnn, alpha=alpha, L2_reg=0.0001, L1_reg=0.0001)\n",
    "optimizer = SGD_Momentum(lr=0.01, mu=0.6)\n",
    "\n",
    "monitors = []\n",
    "\n",
    "sim = Simulation(rnn)\n",
    "sim.run(data, learn_alg=learn_alg, optimizer=optimizer,\n",
    "        sigma=sigma,\n",
    "        monitors=monitors,\n",
    "        verbose=True,\n",
    "        report_accuracy=False,\n",
    "        report_loss=True,\n",
    "        checkpoint_interval=checkpoint_interval)"
   ]
  },
  {
   "cell_type": "code",
   "execution_count": null,
   "id": "a48964d1",
   "metadata": {},
   "outputs": [],
   "source": [
    "if prototype:\n",
    "    plot_output_from_checkpoint(sim.checkpoints[max(sim.checkpoints.keys())], data)"
   ]
  },
  {
   "cell_type": "code",
   "execution_count": null,
   "id": "af9596b3",
   "metadata": {},
   "outputs": [],
   "source": [
    "test_sim = Simulation(rnn)\n",
    "mode = 'test'\n",
    "if 'task_marker' in data['train'].keys():\n",
    "    mode += '_{}'.format(data['train']['task_marker'][-1])\n",
    "test_sim.run(data, mode=mode, monitors=['rnn.loss_'], verbose=False)\n",
    "processed_data = np.mean(test_sim.mons['rnn.loss_'])"
   ]
  },
  {
   "cell_type": "code",
   "execution_count": null,
   "id": "fbb05651",
   "metadata": {},
   "outputs": [],
   "source": [
    "### --- SAVE RESULTS -- ###\n",
    "result = {'sim': sim, 'i_seed': i_seed, 'task': task,\n",
    "          'config': params, 'i_config': i_config, 'i_job': i_job}\n",
    "try:\n",
    "    result['processed_data'] = processed_data\n",
    "except NameError:\n",
    "    pass\n",
    "    \n",
    "try:\n",
    "    save_dir = os.environ['SAVEDIR']\n",
    "    if not os.path.exists(save_dir):\n",
    "        os.mkdir(save_dir)\n",
    "    save_path = os.path.join(save_dir, 'result_{}'.format(i_job))\n",
    "\n",
    "    with open(save_path, 'wb') as f:\n",
    "        pickle.dump(result, f)\n",
    "except KeyError:\n",
    "    pass"
   ]
  },
  {
   "cell_type": "code",
   "execution_count": null,
   "id": "6c24e3e8",
   "metadata": {},
   "outputs": [],
   "source": [
    "###Truncate file above\n",
    "file_name = 'config_grid_template'\n",
    "job_name = 'job_name'\n",
    "project_dir = '/scratch/oem214/learning-dynamics/'\n",
    "main_script_path = os.path.join(project_dir, 'cluster_main_scripts', job_name + '.py')\n",
    "get_ipython().run_cell_magic('javascript', '', 'IPython.notebook.save_notebook()')\n",
    "get_ipython().system('jupyter nbconvert --to script --no-prompt {}.ipynb'.format(file_name))\n",
    "get_ipython().system('awk \"/###Truncate/ {{exit}} {{print}}\" {}.py'.format(file_name))\n",
    "get_ipython().system('sed -i \"/###Truncate/Q\" {}.py'.format(file_name))\n",
    "get_ipython().system('mv {}.py {}'.format(file_name, main_script_path))"
   ]
  },
  {
   "cell_type": "code",
   "execution_count": null,
   "id": "db551d25",
   "metadata": {},
   "outputs": [],
   "source": [
    "###Submit job to cluster\n",
    "n_jobs = len(micro_configs)\n",
    "write_job_file(job_name, py_file_name='{}.py'.format(job_name))\n",
    "job_script_path = os.path.join(project_dir, 'job_scripts', job_name + '.s')\n",
    "job_id_1 = submit_job(job_script_path, n_jobs)"
   ]
  },
  {
   "cell_type": "code",
   "execution_count": 4,
   "id": "20547c0a",
   "metadata": {
    "scrolled": true
   },
   "outputs": [
    {
     "name": "stdout",
     "output_type": "stream",
     "text": [
      "             JOBID PARTITION     NAME     USER ST       TIME  NODES NODELIST(REASON)\r\n",
      "          13871560        cs  jupyter   oem214  R      18:41      1 cs015\r\n"
     ]
    }
   ],
   "source": [
    "###Get job status\n",
    "get_ipython().system('squeue -u oem214')"
   ]
  },
  {
   "cell_type": "code",
   "execution_count": null,
   "id": "2358506d",
   "metadata": {},
   "outputs": [],
   "source": [
    "job_name = 'job_name'\n",
    "job_script_path = os.path.join(project_dir, 'job_scripts', job_name + '.s')\n",
    "configs_array, results_array, key_order, sim_dict = unpack_processed_data(job_script_path)"
   ]
  },
  {
   "cell_type": "code",
   "execution_count": null,
   "id": "da08497c",
   "metadata": {},
   "outputs": [],
   "source": [
    "### --- Plot examples across different tasks --- ###\n",
    "\n",
    "task_dict = {}\n",
    "for key in sim_dict.keys():\n",
    "    task_dict[key] = None #specify task here\n",
    "fig = plot_1d_or_2d_array_of_config_examples(configs_array, results_array,\n",
    "                                             key_order, sim_dict, data=None,\n",
    "                                             task_dict=task_dict, N_task_data=200,\n",
    "                                             xlim=100, trace_spacing=3)"
   ]
  },
  {
   "cell_type": "code",
   "execution_count": null,
   "id": "ad355c60",
   "metadata": {},
   "outputs": [],
   "source": [
    "### --- Plot examples with one task --- ###\n",
    "task = None #specify task if not already\n",
    "data = None #generate data from task\n",
    "fig = plot_1d_or_2d_array_of_config_examples(configs_array, results_array,\n",
    "                                             key_order, sim_dict, data=data,\n",
    "                                             task_dict=None, N_task_data=200,\n",
    "                                             xlim=100, trace_spacing=3)"
   ]
  },
  {
   "cell_type": "code",
   "execution_count": null,
   "id": "de44b399",
   "metadata": {},
   "outputs": [],
   "source": [
    "### --- Plot heatmap of scalar results (e.g. test loss) --- ###\n",
    "\n",
    "fig = plot_2d_array_of_config_results(configs_array, results_array, key_order,\n",
    "                                      log_scale=False, tick_rounding=5, vmin=0, vmax=0.1)"
   ]
  },
  {
   "cell_type": "code",
   "execution_count": null,
   "id": "5788dc4f",
   "metadata": {
    "scrolled": true
   },
   "outputs": [],
   "source": [
    "### --- Plot heatmap of scalar results (e.g. test loss) --- ###\n",
    "\n",
    "fig = plot_3d_or_4d_array_of_config_results(configs_array, results_array, key_order, tick_rounding=5,\n",
    "                                            vmin=0, vmax=0.05)"
   ]
  },
  {
   "cell_type": "code",
   "execution_count": null,
   "id": "3a885b90",
   "metadata": {},
   "outputs": [],
   "source": [
    "figs_path = 'figs'\n",
    "fig_name = 'whatever'\n",
    "fig.savefig(os.path.join(figs_path, '{}.pdf'.format(fig_name)), format='pdf')"
   ]
  }
 ],
 "metadata": {
  "kernelspec": {
   "display_name": "Python 3",
   "language": "python",
   "name": "python3"
  },
  "language_info": {
   "codemirror_mode": {
    "name": "ipython",
    "version": 3
   },
   "file_extension": ".py",
   "mimetype": "text/x-python",
   "name": "python",
   "nbconvert_exporter": "python",
   "pygments_lexer": "ipython3",
   "version": "3.8.5"
  }
 },
 "nbformat": 4,
 "nbformat_minor": 5
}
