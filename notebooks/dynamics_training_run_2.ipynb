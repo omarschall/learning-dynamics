{
 "cells": [
  {
   "cell_type": "code",
   "execution_count": 1,
   "id": "3b6570be",
   "metadata": {},
   "outputs": [],
   "source": [
    "import sys, os, pickle\n",
    "sys.path.append('/scratch/oem214/vanilla-rtrl/')\n",
    "from cluster import *\n",
    "from continual_learning import *\n",
    "from core import *\n",
    "from dynamics import *\n",
    "from functions import *\n",
    "from gen_data import *\n",
    "from learning_algorithms import *\n",
    "from optimizers import *\n",
    "from plotting import *\n",
    "from wrappers import *\n",
    "import matplotlib.pyplot as plt"
   ]
  },
  {
   "cell_type": "code",
   "execution_count": null,
   "id": "08c28696",
   "metadata": {},
   "outputs": [],
   "source": [
    "#np.random.seed(0)\n",
    "#task = Flip_Flop_Task(3, 0.05, input_magnitudes=None)\n",
    "task = Discrete_Integration_Task(p_bit=0.15, p_reset=0.05, reset_mode='regular')\n",
    "N_train = 2000000\n",
    "N_test = 10000\n",
    "#checkpoint_interval = list(range(0, 20000, 100)) + list(range(20000, 21000, 1)) + list(range(21000, 100000, 100))\n",
    "#checkpoint_interval = list(range(0, 10000, 100)) + list(range(10000, 11000, 1)) + list(range(11000, 20000, 100))\n",
    "checkpoint_interval = 20000\n",
    "sigma = 0\n",
    "\n",
    "data = task.gen_data(N_train, N_test)\n",
    "\n",
    "n_in = task.n_in\n",
    "n_hidden = 128\n",
    "n_out = task.n_out\n",
    "W_in  = np.random.normal(0, np.sqrt(1/(n_in)), (n_hidden, n_in))\n",
    "W_rec = np.random.normal(0, np.sqrt(1/n_hidden), (n_hidden, n_hidden))\n",
    "W_out = np.random.normal(0, np.sqrt(1/(n_hidden)), (n_out, n_hidden))\n",
    "\n",
    "b_rec = np.zeros(n_hidden)\n",
    "b_out = np.zeros(n_out)\n",
    "\n",
    "alpha = 1\n",
    "sigma = 0\n",
    "\n",
    "rnn = RNN(W_in, W_rec, W_out, b_rec, b_out,\n",
    "          activation=tanh,\n",
    "          alpha=alpha,\n",
    "          output=identity,\n",
    "          loss=mean_squared_error)\n",
    "\n",
    "#learn_alg = RTRL(rnn, L2_reg=0.0001, L1_reg=0.0001)\n",
    "learn_alg = Efficient_BPTT(rnn, T_truncation=20, L2_reg=0.0001, L1_reg=0.0001)\n",
    "#sg_optimizer = Stochastic_Gradient_Descent(lr=0.001)\n",
    "#learn_alg = REINFORCE(rnn, sigma=sigma, decay=0.5)\n",
    "#learn_alg = DNI(rnn, sg_optimizer)\n",
    "#learn_alg = RFLO(rnn, alpha=alpha, L2_reg=0.0001, L1_reg=0.0001)\n",
    "#optimizer = SGD_Momentum(lr=0.01, mu=0.6)\n",
    "optimizer = Stochastic_Gradient_Descent(lr=0.0003)\n",
    "\n",
    "monitors = []\n",
    "\n",
    "sim = Simulation(rnn)\n",
    "sim.run(data, learn_alg=learn_alg, optimizer=optimizer,\n",
    "        sigma=sigma,\n",
    "        monitors=monitors,\n",
    "        verbose=True,\n",
    "        report_accuracy=False,\n",
    "        report_loss=True,\n",
    "        checkpoint_interval=checkpoint_interval,\n",
    "        checkpoint_optimizer=True)"
   ]
  },
  {
   "cell_type": "code",
   "execution_count": null,
   "id": "b42f2489",
   "metadata": {},
   "outputs": [],
   "source": [
    "for i_checkpoint in [5000, 5010]:\n",
    "    checkpoint = old_sim.checkpoints[i_checkpoint]\n",
    "\n",
    "    rnn = checkpoint['rnn']\n",
    "\n",
    "    N_train = 1000\n",
    "    N_test = 500\n",
    "    checkpoint_interval = 10\n",
    "\n",
    "    data = task.gen_data(N_train, N_test)\n",
    "\n",
    "    learn_alg = RFLO(rnn, alpha=alpha, L2_reg=0.0001, L1_reg=0.0001)\n",
    "    optimizer = SGD_Momentum(lr=0, mu=0.6)\n",
    "\n",
    "    monitors = []\n",
    "\n",
    "    sim = Simulation(rnn)\n",
    "    sim.run(data, learn_alg=learn_alg, optimizer=optimizer,\n",
    "            sigma=sigma,\n",
    "            monitors=monitors,\n",
    "            verbose=True,\n",
    "            report_accuracy=False,\n",
    "            report_loss=True,\n",
    "            checkpoint_interval=checkpoint_interval)\n",
    "    \n",
    "    file_name = 'robustness_2_cp_{}'.format(i_checkpoint)\n",
    "\n",
    "    ### --- SAVE RUN --- ###\n",
    "    with open(os.path.join('saved_runs/', file_name), 'wb') as f:\n",
    "        saved_run = {'sim': sim, 'task': task}\n",
    "        pickle.dump(saved_run, f)\n",
    "        \n",
    "    topological_analysis(file_name)"
   ]
  },
  {
   "cell_type": "code",
   "execution_count": null,
   "id": "ce0984d6",
   "metadata": {},
   "outputs": [],
   "source": [
    "for i_checkpoint in [5000, 5010]:\n",
    "    \n",
    "    file_name = 'robustness_2_cp_{}'.format(i_checkpoint)\n",
    "    topological_analysis(file_name)"
   ]
  },
  {
   "cell_type": "code",
   "execution_count": null,
   "id": "671d52be",
   "metadata": {},
   "outputs": [],
   "source": [
    "data = task.gen_data(0, 500)\n",
    "plot_output_from_checkpoint(sim.checkpoints[sorted(sim.checkpoints.keys())[-1]], data)"
   ]
  },
  {
   "cell_type": "code",
   "execution_count": null,
   "id": "abbf1d99",
   "metadata": {},
   "outputs": [],
   "source": [
    "file_name = 'integration_test'"
   ]
  },
  {
   "cell_type": "code",
   "execution_count": null,
   "id": "5bebe626",
   "metadata": {},
   "outputs": [],
   "source": [
    "### --- SAVE RUN --- ###\n",
    "with open(os.path.join('saved_runs/', file_name), 'wb') as f:\n",
    "    saved_run = {'sim': sim, 'task': task}\n",
    "    pickle.dump(saved_run, f)"
   ]
  },
  {
   "cell_type": "code",
   "execution_count": null,
   "id": "d719edaa",
   "metadata": {},
   "outputs": [],
   "source": [
    "### --- OPEN RUN --- ###\n",
    "with open(os.path.join('saved_runs/', file_name), 'rb') as f:\n",
    "    saved_run = pickle.load(f)\n",
    "    sim = saved_run['sim']\n",
    "    task =saved_run['task']"
   ]
  },
  {
   "cell_type": "code",
   "execution_count": null,
   "id": "a7f1fd6f",
   "metadata": {},
   "outputs": [],
   "source": [
    "!ls ../results"
   ]
  },
  {
   "cell_type": "code",
   "execution_count": null,
   "id": "6da5cdc0",
   "metadata": {},
   "outputs": [],
   "source": [
    "!ls /scratch/oem214/vanilla-rtrl/wrappers/analyze_main.py /scratch/oem214/learning-dynamics/cluster_main_scripts/"
   ]
  },
  {
   "cell_type": "code",
   "execution_count": null,
   "id": "8db41d47",
   "metadata": {},
   "outputs": [],
   "source": [
    "from math import ceil\n",
    "len(checkpoint_interval)"
   ]
  },
  {
   "cell_type": "code",
   "execution_count": null,
   "id": "0c1d9afd",
   "metadata": {},
   "outputs": [],
   "source": [
    "600 * 2"
   ]
  },
  {
   "cell_type": "code",
   "execution_count": null,
   "id": "63a3f34e",
   "metadata": {},
   "outputs": [],
   "source": [
    "topological_analysis(file_name, FP_KE_criterion=0.00001, FP_N=800, ppn=16, compare_weight_change_alignment=True,\n",
    "                     compare_n_comp_window=1)"
   ]
  },
  {
   "cell_type": "code",
   "execution_count": null,
   "id": "d8e694fc",
   "metadata": {},
   "outputs": [],
   "source": [
    "topological_analysis(file_name, FP_KE_criterion=0.00001, FP_N=600, test_N=1200, test_save_data=True,\n",
    "                     compare_PC1=False, compare_PC2=True, compare_PC3=False, compare_CKA=True)"
   ]
  },
  {
   "cell_type": "code",
   "execution_count": null,
   "id": "050877a6",
   "metadata": {},
   "outputs": [],
   "source": [
    "topological_analysis(file_name, FP_find_FPs=False, compare_align_checkpoints=False, compare_aligned_graph=False,\n",
    "                     compare_node_diff=False, compare_node_drift=False,\n",
    "                     test_N=2000, test_save_data=True,\n",
    "                     compare_CKA=True, compare_PC1=True, compare_PC2=True, compare_PC3=True)"
   ]
  },
  {
   "cell_type": "code",
   "execution_count": null,
   "id": "5fabf608",
   "metadata": {},
   "outputs": [],
   "source": [
    "###Get job status\n",
    "get_ipython().system('squeue -u oem214')"
   ]
  },
  {
   "cell_type": "code",
   "execution_count": null,
   "id": "e294ea81",
   "metadata": {},
   "outputs": [],
   "source": []
  },
  {
   "cell_type": "code",
   "execution_count": null,
   "id": "3b412ddf",
   "metadata": {},
   "outputs": [],
   "source": [
    "!scancel 11590921"
   ]
  },
  {
   "cell_type": "code",
   "execution_count": null,
   "id": "4cf31592",
   "metadata": {},
   "outputs": [],
   "source": [
    "get_ipython().run_cell_magic('javascript', '', 'IPython.notebook.save_notebook()')"
   ]
  },
  {
   "cell_type": "code",
   "execution_count": null,
   "id": "1ba0f0be",
   "metadata": {},
   "outputs": [],
   "source": [
    "TD_means = []\n",
    "TD_stds = []\n",
    "indices = []\n",
    "for i_checkpoint in range(5000, 5020, 10):\n",
    "\n",
    "    file_name = 'robustness_2_cp_{}'.format(i_checkpoint)\n",
    "    try:\n",
    "        signals = unpack_compare_result(file_name, checkpoint_stats={'test_loss': get_checkpoint_loss})\n",
    "    except FileNotFoundError:\n",
    "        continue\n",
    "    \n",
    "    TD_means.append(signals['aligned_graph_distances'].mean())\n",
    "    TD_stds.append(signals['aligned_graph_distances'].std())\n",
    "    indices.append(i_checkpoint)\n"
   ]
  },
  {
   "cell_type": "code",
   "execution_count": null,
   "id": "1a5e55c4",
   "metadata": {},
   "outputs": [],
   "source": [
    "plt.figure()\n",
    "with open('/scratch/oem214/learning-dynamics/results/compare_cka_dense_test/result_0', 'rb') as f:\n",
    "    result = pickle.load(f)\n",
    "M = result['aligned_graph_distances']\n",
    "plt.imshow(M + M.T)"
   ]
  },
  {
   "cell_type": "code",
   "execution_count": null,
   "id": "e3870175",
   "metadata": {},
   "outputs": [],
   "source": [
    "### --- SVCCA Check --- ###\n",
    "\n",
    "def SVCCA_distance_(checkpoint_1, checkpoint_2, R=32):\n",
    "    \"\"\"Compute the singular-value canonical correlation analysis distance\n",
    "    between two different networks.\"\"\"\n",
    "\n",
    "    A_1 = checkpoint_1['test_data']\n",
    "    A_2 = checkpoint_2['test_data']\n",
    "\n",
    "    #U_1, S_1, V_1 = np.linalg.svd(A_1)\n",
    "    #U_2, S_2, V_2 = np.linalg.svd(A_2)\n",
    "\n",
    "    cca = CCA(n_components=R, max_iter=1000)\n",
    "    #cca.fit(V_1, V_2)\n",
    "    #cca.fit(A_1.dot(V_1), A_2.dot(V_2))\n",
    "    cca.fit(A_1, A_2)\n",
    "\n",
    "    #return 1 - cca.score(A_1.dot(V_1), A_2.dot(V_2))\n",
    "    #return 1 - cca.score(V_1, V_2)\n",
    "    return 1 - cca.score(A_1, A_2)"
   ]
  },
  {
   "cell_type": "code",
   "execution_count": null,
   "id": "eaf55aaa",
   "metadata": {},
   "outputs": [],
   "source": [
    "data = task.gen_data(0, 1000)\n",
    "A_1 = get_test_sim_data(checkpoint_1, data)\n",
    "A_2 = get_test_sim_data(checkpoint_2, data)"
   ]
  },
  {
   "cell_type": "code",
   "execution_count": null,
   "id": "a9356881",
   "metadata": {},
   "outputs": [],
   "source": [
    "checkpoint_1 = checkpoints['checkpoint_19000']\n",
    "checkpoint_2 = checkpoints['checkpoint_18900']\n",
    "\n",
    "align_checkpoints_based_on_output(checkpoint_2, checkpoint_1)\n",
    "plot_input_dependent_topology(checkpoint_1)\n",
    "plot_input_dependent_topology(checkpoint_2, graph_key='backembed_adjmat')"
   ]
  },
  {
   "cell_type": "code",
   "execution_count": null,
   "id": "bac156da",
   "metadata": {},
   "outputs": [],
   "source": [
    "def CKA_distance_(checkpoint_1, checkpoint_2, data, centered=False):\n",
    "    \"\"\"Compute CKA distance between two checkpoints\"\"\"\n",
    "\n",
    "    A_1 = get_test_sim_data(checkpoint_1, data)\n",
    "    A_2 = get_test_sim_data(checkpoint_2, data)\n",
    "\n",
    "    N = A_1.shape[0]\n",
    "\n",
    "    if centered:\n",
    "        A_1 = A_1 - np.mean(A_1, axis=0)\n",
    "        A_2 = A_2 - np.mean(A_2, axis=0)\n",
    "\n",
    "    return 1 - (norm(A_1.T.dot(A_2)) / (norm(A_1.T.dot(A_1)) * norm(A_2.T.dot(A_2))))\n",
    "    #return 1 - (norm(A_1.dot(A_2.T)) / (norm(A_1.dot(A_1.T)) * norm(A_2.dot(A_2.T))))"
   ]
  },
  {
   "cell_type": "code",
   "execution_count": null,
   "id": "ff519c07",
   "metadata": {},
   "outputs": [],
   "source": [
    "CKA_distance(checkpoint_1, checkpoint_2, data, centered=False)"
   ]
  },
  {
   "cell_type": "code",
   "execution_count": null,
   "id": "e3a85ebb",
   "metadata": {},
   "outputs": [],
   "source": [
    "sigma=0\n",
    "a_init = np.random.normal(0, 0.1, 32)\n",
    "rnn = deepcopy(checkpoint_1['rnn'])\n",
    "test_sim = Simulation(rnn)\n",
    "test_sim.run(data, mode='test',\n",
    "             monitors=['rnn.a'],\n",
    "             verbose=False,\n",
    "             a_initial=a_init,\n",
    "             sigma=sigma)\n",
    "A_1 = test_sim.mons['rnn.a'].copy()\n",
    "\n",
    "\n",
    "rnn = deepcopy(checkpoint_2['rnn'])\n",
    "test_sim = Simulation(rnn)\n",
    "test_sim.run(data, mode='test',\n",
    "             monitors=['rnn.a'],\n",
    "             verbose=False,\n",
    "             a_initial=a_init,\n",
    "             sigma=sigma)\n",
    "A_2 = test_sim.mons['rnn.a'].copy()\n",
    "\n",
    "centered = False\n",
    "if centered:\n",
    "    A_1 = A_1 - np.mean(A_1, axis=0)\n",
    "    A_2 = A_2 - np.mean(A_2, axis=0)\n",
    "\n",
    "1 - (norm(A_1.T.dot(A_2)) / (norm(A_1.T.dot(A_1)) * norm(A_2.T.dot(A_2))))\n",
    "\n",
    "#cca = CCA(n_components=3)\n",
    "#cca.fit(A_1, A_2)\n",
    "#cca.score(A_1, A_2)"
   ]
  },
  {
   "cell_type": "code",
   "execution_count": null,
   "id": "f2020e49",
   "metadata": {},
   "outputs": [],
   "source": [
    "norm(A_2.T.dot(A_2))"
   ]
  },
  {
   "cell_type": "code",
   "execution_count": null,
   "id": "e077e2e4",
   "metadata": {},
   "outputs": [],
   "source": [
    "M = result['aligned_graph_distances']\n",
    "plt.hist((M + M.T).flatten())"
   ]
  },
  {
   "cell_type": "code",
   "execution_count": null,
   "id": "03ef5950",
   "metadata": {},
   "outputs": [],
   "source": [
    "#Cross checkpoint\n",
    "\n",
    "### 1 ###\n",
    "\n",
    "saved_run_name = 'robustness_2_cp_5000'\n",
    "analysis_job_name = 'analyze_{}'.format(saved_run_name)\n",
    "compare_job_name = 'compare_{}'.format(saved_run_name)\n",
    "\n",
    "results_dir = '/scratch/oem214/learning-dynamics/results/'\n",
    "\n",
    "analysis_result_path = os.path.join(results_dir, analysis_job_name)\n",
    "indices_1, checkpoints_1 = unpack_analysis_results(analysis_result_path)\n",
    "\n",
    "### 2 ####\n",
    "\n",
    "saved_run_name = 'robustness_2_cp_5010'\n",
    "analysis_job_name = 'analyze_{}'.format(saved_run_name)\n",
    "compare_job_name = 'compare_{}'.format(saved_run_name)\n",
    "\n",
    "results_dir = '/scratch/oem214/learning-dynamics/results/'\n",
    "\n",
    "analysis_result_path = os.path.join(results_dir, analysis_job_name)\n",
    "indices_2, checkpoints_2 = unpack_analysis_results(analysis_result_path)"
   ]
  },
  {
   "cell_type": "code",
   "execution_count": null,
   "id": "939ecd04",
   "metadata": {},
   "outputs": [],
   "source": [
    "M = np.zeros((len(indices_1), len(indices_2)))\n",
    "\n",
    "for i in range(len(indices_1)):\n",
    "    for j in range(len(indices_2)):\n",
    "        \n",
    "        i_index = indices_1[i]\n",
    "        j_index = indices_2[j]\n",
    "\n",
    "        checkpoint_1 = checkpoints_1['checkpoint_{}'.format(i_index)]\n",
    "        checkpoint_2 = checkpoints_2['checkpoint_{}'.format(j_index)]\n",
    "\n",
    "        align_checkpoints(checkpoint_2, checkpoint_1, n_inputs=6)\n",
    "        align_checkpoints(checkpoint_2, checkpoint_1, n_inputs=6)\n",
    "        \n",
    "        M[i, j] = aligned_graph_distance(checkpoint_1, checkpoint_2)"
   ]
  },
  {
   "cell_type": "code",
   "execution_count": null,
   "id": "eb13f21a",
   "metadata": {},
   "outputs": [],
   "source": [
    "M.mean()"
   ]
  },
  {
   "cell_type": "code",
   "execution_count": null,
   "id": "84afd81a",
   "metadata": {},
   "outputs": [],
   "source": [
    "same = result['aligned_graph_distances']\n",
    "(same + same.T).mean()"
   ]
  },
  {
   "cell_type": "code",
   "execution_count": null,
   "id": "68f03d0a",
   "metadata": {},
   "outputs": [],
   "source": [
    "!mkdir figs/scheduling"
   ]
  },
  {
   "cell_type": "code",
   "execution_count": null,
   "id": "7737b7a9",
   "metadata": {},
   "outputs": [],
   "source": [
    "#file_name = 'DNI_dynamics_3'\n",
    "file_name = 'new_align_test'\n",
    "saved_run_name = file_name\n",
    "analysis_job_name = 'analyze_{}'.format(saved_run_name)\n",
    "compare_job_name = 'compare_{}'.format(saved_run_name)\n",
    "\n",
    "results_dir = '/scratch/oem214/learning-dynamics/results/'\n",
    "\n",
    "analysis_result_path = os.path.join(results_dir, analysis_job_name)\n",
    "indices, checkpoints = unpack_analysis_results(analysis_result_path)\n",
    "signals = unpack_compare_result(file_name, checkpoint_stats={'test_loss': get_checkpoint_loss})"
   ]
  },
  {
   "cell_type": "code",
   "execution_count": null,
   "id": "06e52f63",
   "metadata": {},
   "outputs": [],
   "source": [
    "fig = plot_signals(signals, x_values=indices, signal_clips={'rec_weight_distances': 5})\n",
    "figs_path = 'figs/scheduling/'\n",
    "#plt.xlim([11000, 20000])\n",
    "#fig.savefig(os.path.join(figs_path, '{}.pdf'.format(file_name)), format='pdf')"
   ]
  },
  {
   "cell_type": "code",
   "execution_count": null,
   "id": "8ad23e93",
   "metadata": {},
   "outputs": [],
   "source": [
    "with open('../results/compare_schedule_align/result_0', 'rb') as f:\n",
    "    result = pickle.load(f)\n",
    "    \n",
    "M = result['aligned_graph_distances']\n",
    "M = M + M.T\n",
    "\n",
    "i = 1100\n",
    "\n",
    "#plt.imshow(M[i-30:i+30, i-30:i+30])"
   ]
  },
  {
   "cell_type": "code",
   "execution_count": null,
   "id": "38f8543b",
   "metadata": {},
   "outputs": [],
   "source": [
    "np.amax(signals['aligned_graph_distances'])"
   ]
  },
  {
   "cell_type": "code",
   "execution_count": null,
   "id": "a20eead7",
   "metadata": {
    "scrolled": true
   },
   "outputs": [],
   "source": [
    "fig = plt.figure()\n",
    "indices_array = np.array(indices[:-1])\n",
    "plt.plot(list(range(20000, 21000)), signals['aligned_graph_distances'][np.logical_and(indices_array >= 20000, indices_array < 21000)])\n",
    "plt.xlim([20000, 20100])\n",
    "plt.plot(list(range(20000, 21000)), 100 * signals['rec_weight_distances'][np.logical_and(indices_array >= 20000, indices_array < 21000)], color='C3')\n",
    "plt.legend(['aligned_graph_distances', 'rec_weight_distanes'])\n",
    "figs_path = 'figs/scheduling/'\n",
    "fig.savefig(os.path.join(figs_path, 'detailed_changes.pdf'), format='pdf')\n",
    "\n",
    "fig = plt.figure()\n",
    "plt.plot(signals['aligned_graph_distances'][np.logical_and(indices_array >= 20000, indices_array < 21000)],\n",
    "         100 * signals['rec_weight_distances'][np.logical_and(indices_array >= 20000, indices_array < 21000)], '.')\n",
    "plt.xlabel('Topology')\n",
    "plt.ylabel('Rec weight')\n",
    "figs_path = 'figs/scheduling/'\n",
    "fig.savefig(os.path.join(figs_path, 'scatter.pdf'), format='pdf')\n",
    "\n",
    "\n"
   ]
  },
  {
   "cell_type": "code",
   "execution_count": null,
   "id": "fccae114",
   "metadata": {},
   "outputs": [],
   "source": [
    "with open('../results/compare_schedule_test_4/result_0', 'rb') as f:\n",
    "    result = pickle.load(f)"
   ]
  },
  {
   "cell_type": "code",
   "execution_count": null,
   "id": "bd1b2816",
   "metadata": {},
   "outputs": [],
   "source": [
    "for i_index, index in enumerate(indices):\n",
    "    \n",
    "    if i_index == 0:\n",
    "        continue\n",
    "    \n",
    "    checkpoint_1 = checkpoints['checkpoint_{}'.format(index)]\n",
    "    checkpoint_2 = checkpoints['checkpoint_{}'.format(indices[i_index - 1])]\n",
    "    align_checkpoints_based_on_output(checkpoint_2, checkpoint_1)\n",
    "\n",
    "plot_input_dependent_topology(checkpoints['checkpoint_20001'])\n",
    "plot_input_dependent_topology(checkpoints['checkpoint_20002'])\n",
    "plot_input_dependent_topology(checkpoints['checkpoint_20003'])\n",
    "print('Distance from next = {}'.format(result['aligned_graph_distances'][indices.index(20003),\n",
    "                                                                         indices.index(20004)]))\n",
    "plot_input_dependent_topology(checkpoints['checkpoint_20004'])\n",
    "print('Distance from next = {}'.format(result['aligned_graph_distances'][indices.index(20004),\n",
    "                                                                         indices.index(20005)]))\n",
    "plot_input_dependent_topology(checkpoints['checkpoint_20005'])\n",
    "plot_input_dependent_topology(checkpoints['checkpoint_20006'])"
   ]
  },
  {
   "cell_type": "code",
   "execution_count": null,
   "id": "ec2e88d6",
   "metadata": {},
   "outputs": [],
   "source": [
    "figs_path = 'figs/scheduling/'\n",
    "for i in range(20001, 20015):\n",
    "    print('Distance from next = {}'.format(result['aligned_graph_distances'][indices.index(i-1),\n",
    "                                                                             indices.index(i)]))\n",
    "    \n",
    "    checkpoint_1 = checkpoints['checkpoint_{}'.format(i - 1)]\n",
    "    checkpoint_2 = checkpoints['checkpoint_{}'.format(i)]\n",
    "    align_checkpoints_based_on_output(checkpoint_2, checkpoint_1)\n",
    "    fig = plot_input_dependent_topology(checkpoint_1, return_fig=True)\n",
    "    fig.suptitle('Distance = {}'.format(aligned_graph_distance(checkpoint_1, checkpoint_2, node_diff_penalty=0)))\n",
    "    fig.savefig(os.path.join(figs_path, 'cp_{}_1.pdf'.format(i - 1)), format='pdf')\n",
    "                 \n",
    "    align_checkpoints_based_on_output(checkpoint_1, checkpoint_2)\n",
    "    fig = plot_input_dependent_topology(checkpoint_2, return_fig=True)\n",
    "    fig.suptitle('Distance = {}'.format(aligned_graph_distance(checkpoint_1, checkpoint_2, node_diff_penalty=0)))\n",
    "    fig.savefig(os.path.join(figs_path, 'cp_{}_2.pdf'.format(i)), format='pdf')\n",
    "    #plt.close()\n",
    "    "
   ]
  },
  {
   "cell_type": "code",
   "execution_count": null,
   "id": "43d3a74f",
   "metadata": {},
   "outputs": [],
   "source": [
    "indices.index(20000)"
   ]
  },
  {
   "cell_type": "code",
   "execution_count": null,
   "id": "46d38731",
   "metadata": {},
   "outputs": [],
   "source": [
    "i = 1\n",
    "j = i + 1\n",
    "print(result['aligned_graph_distances'][200 + i, 200 + j])\n",
    "print(signals['aligned_graph_distances'][200 + i])\n",
    "checkpoint_1 = checkpoints['checkpoint_{}'.format(20000 + i)]\n",
    "checkpoint_2 = checkpoints['checkpoint_{}'.format(20000 + j)]\n",
    "align_checkpoints_based_on_output(checkpoint_2, checkpoint_1)\n",
    "print(aligned_graph_distance(checkpoint_1, checkpoint_2))"
   ]
  },
  {
   "cell_type": "code",
   "execution_count": null,
   "id": "2436f30c",
   "metadata": {},
   "outputs": [],
   "source": [
    "indices.index(20000)"
   ]
  },
  {
   "cell_type": "code",
   "execution_count": null,
   "id": "9770060f",
   "metadata": {},
   "outputs": [],
   "source": [
    "!mkdir figs/fp_regime"
   ]
  },
  {
   "cell_type": "code",
   "execution_count": null,
   "id": "63a5eec4",
   "metadata": {},
   "outputs": [],
   "source": [
    "figs_path = 'figs/fp_regime/'\n",
    "fig = plt.figure()\n",
    "plt.hist(checkpoint['cluster_means'].flatten(), bins=30)\n",
    "plt.xlabel('a_i value')\n",
    "plt.ylabel('Count')\n",
    "fig.savefig(os.path.join(figs_path, 'a_hist.pdf'), dpi=300, format='pdf')"
   ]
  },
  {
   "cell_type": "code",
   "execution_count": null,
   "id": "107067a1",
   "metadata": {},
   "outputs": [],
   "source": [
    "figs_path = 'figs/fp_regime/'\n",
    "fig = plt.figure()\n",
    "plt.xlabel('log |a_i| value')\n",
    "plt.ylabel('Count')\n",
    "plt.hist(np.log10(np.abs(checkpoint['cluster_means'].flatten())), bins=30)\n",
    "fig.savefig(os.path.join(figs_path, 'log_a_hist.pdf'), dpi=300, format='pdf')"
   ]
  },
  {
   "cell_type": "code",
   "execution_count": null,
   "id": "c96d2dc6",
   "metadata": {},
   "outputs": [],
   "source": [
    "figs_path = 'figs/fp_regime/'\n",
    "h = (checkpoint['rnn'].W_rec.dot(checkpoint['cluster_means'].T).T + checkpoint['rnn'].b_rec).T\n",
    "fig = plt.figure()\n",
    "plt.hist(np.log10(np.abs(h.flatten())), bins=30)\n",
    "plt.xlabel('log |h_i| value')\n",
    "plt.ylabel('Count')\n",
    "fig.savefig(os.path.join(figs_path, 'log_h_hist.pdf'), dpi=300, format='pdf')"
   ]
  },
  {
   "cell_type": "code",
   "execution_count": null,
   "id": "5c328d94",
   "metadata": {},
   "outputs": [],
   "source": [
    "figs_path = 'figs/fp_regime/'\n",
    "h = (checkpoint['rnn'].W_rec.dot(checkpoint['cluster_means'].T).T + checkpoint['rnn'].b_rec).T\n",
    "fig = plt.figure()\n",
    "plt.hist(h.flatten(), bins=30)\n",
    "plt.xlabel('h_i value')\n",
    "plt.ylabel('Count')\n",
    "fig.savefig(os.path.join(figs_path, 'h_hist.pdf'), dpi=300, format='pdf')"
   ]
  },
  {
   "cell_type": "code",
   "execution_count": null,
   "id": "7cba6ac7",
   "metadata": {},
   "outputs": [],
   "source": [
    "figs_path = 'figs/fp_regime/'\n",
    "fig, ax = plt.subplots(2, 2)\n",
    "bins = np.arange(-1, 1, 0.05)\n",
    "for i in range(checkpoint['cluster_means'].shape[0]):\n",
    "    x_ax, y_ax = (i % 4) % 2, (i % 4) // 2\n",
    "    hist_, bin_edges = np.histogram(checkpoint['cluster_means'][i, :], bins=bins)\n",
    "    bin_width = (bin_edges[1] - bin_edges[0])/2\n",
    "    ax[x_ax, y_ax].plot(bin_edges[:-1] + bin_width, hist_, color='C{}'.format(i % 5))\n",
    "#plt.xlabel('h_i value')\n",
    "#plt.ylabel('Count')\n",
    "fig.savefig(os.path.join(figs_path, 'a_hist_color_coded.pdf'), dpi=300, format='pdf')"
   ]
  },
  {
   "cell_type": "code",
   "execution_count": null,
   "id": "5458bd31",
   "metadata": {},
   "outputs": [],
   "source": [
    "task = Flip_Flop_Task(3, 0.05, input_magnitudes=None)\n",
    "N_train = 200000\n",
    "N_test = 10000\n",
    "checkpoint_interval = 400\n",
    "sigma = 0\n",
    "\n",
    "data = task.gen_data(N_train, N_test)\n",
    "plot_output_from_checkpoint(checkpoints['checkpoint_199000'], data)"
   ]
  },
  {
   "cell_type": "code",
   "execution_count": null,
   "id": "361058d9",
   "metadata": {},
   "outputs": [],
   "source": [
    "plot_kinetic_energy_histograms(indices, checkpoints)"
   ]
  },
  {
   "cell_type": "code",
   "execution_count": null,
   "id": "422da7e8",
   "metadata": {},
   "outputs": [],
   "source": [
    "figs_path = 'figs/rflo_image_stack'\n",
    "colors = ['cornflowerblue', 'lightcoral', 'mediumseagreen', 'b', 'r', 'g']\n",
    "for idx in indices[1:]:\n",
    "    checkpoint_1 = checkpoints['checkpoint_{}'.format(idx - 10)]\n",
    "    checkpoint_2 = checkpoints['checkpoint_{}'.format(idx)]\n",
    "    align_checkpoints_based_on_output(checkpoint_2, checkpoint_1)\n",
    "    fig = plot_input_dependent_topology(checkpoint_2, return_fig=True, color_scheme='different',\n",
    "                                        colors=colors)\n",
    "    plt.xticks([])\n",
    "    plt.yticks([])\n",
    "    plt.axis('off')\n",
    "    fig.savefig(os.path.join(figs_path, 'cp_{}.jpeg'.format(idx)), dpi=200, format='jpeg')\n",
    "    plt.close()\n"
   ]
  },
  {
   "cell_type": "code",
   "execution_count": null,
   "id": "deb4218d",
   "metadata": {},
   "outputs": [],
   "source": [
    "idx"
   ]
  },
  {
   "cell_type": "code",
   "execution_count": null,
   "id": "cd1852ed",
   "metadata": {},
   "outputs": [],
   "source": [
    "plot_kinetic_energy_histograms(indices, checkpoints, red_line=-5)"
   ]
  },
  {
   "cell_type": "code",
   "execution_count": null,
   "id": "7677c7a2",
   "metadata": {},
   "outputs": [],
   "source": [
    "checkpoint_1 = checkpoints['checkpoint_19000']\n",
    "checkpoint_2 = checkpoints['checkpoint_10100']\n",
    "PC_distance_3(checkpoint_1, checkpoint_2)"
   ]
  },
  {
   "cell_type": "code",
   "execution_count": null,
   "id": "8d644fed",
   "metadata": {},
   "outputs": [],
   "source": [
    "plot_input_dependent_topology(checkpoint_1)"
   ]
  },
  {
   "cell_type": "code",
   "execution_count": null,
   "id": "d390cf83",
   "metadata": {},
   "outputs": [],
   "source": [
    "indices"
   ]
  },
  {
   "cell_type": "code",
   "execution_count": null,
   "id": "f6944213",
   "metadata": {},
   "outputs": [],
   "source": [
    "fig = plt.figure()\n",
    "plt.plot(indices, TD_means)\n",
    "plt.plot(indices, TD_stds)\n",
    "plt.plot(range(100, 20000, 100), signals['aligned_graph_distances'])\n",
    "#plot_signals(signals, key_restriction=['aligned_graph_distances'])\n",
    "#plt.plot(indices, TD_stds)\n",
    "plt.legend(['Mean top. dist.', 'STD top. dist.', 'Top. Dist.'])\n",
    "figs_path = 'figs/compare_algorithms/'\n",
    "#fig.savefig(os.path.join(figs_path, 'robustness.pdf'), format='pdf')"
   ]
  },
  {
   "cell_type": "code",
   "execution_count": null,
   "id": "ff0f610e",
   "metadata": {},
   "outputs": [],
   "source": [
    "signals['test_loss']"
   ]
  },
  {
   "cell_type": "code",
   "execution_count": null,
   "id": "9b08ab5d",
   "metadata": {},
   "outputs": [],
   "source": [
    "!cat ../logs/compare_BPTT_lr0p0001.o.log"
   ]
  },
  {
   "cell_type": "code",
   "execution_count": null,
   "id": "7a6807e6",
   "metadata": {},
   "outputs": [],
   "source": [
    "signals.keys()"
   ]
  },
  {
   "cell_type": "code",
   "execution_count": null,
   "id": "2b3e2033",
   "metadata": {},
   "outputs": [],
   "source": [
    "fig = plot_signals(signals, title='RTRL lr = 0.0001, N-KE = 1200')\n",
    "figs_path = 'figs/compare_algorithms/'\n",
    "#fig.savefig(os.path.join(figs_path, 'RTRL_dense_highN_2.pdf'), format='pdf')"
   ]
  },
  {
   "cell_type": "code",
   "execution_count": null,
   "id": "1e2e9719",
   "metadata": {},
   "outputs": [],
   "source": [
    "file_name = 'RTRL_long_check'\n",
    "saved_run_name = file_name\n",
    "analysis_job_name = 'analyze_{}'.format(saved_run_name)\n",
    "compare_job_name = 'compare_{}'.format(saved_run_name)\n",
    "\n",
    "results_dir = '/scratch/oem214/learning-dynamics/results/'\n",
    "\n",
    "analysis_result_path = os.path.join(results_dir, analysis_job_name)\n",
    "indices, checkpoints = unpack_analysis_results(analysis_result_path)"
   ]
  },
  {
   "cell_type": "code",
   "execution_count": null,
   "id": "d8095e29",
   "metadata": {},
   "outputs": [],
   "source": [
    "indices"
   ]
  },
  {
   "cell_type": "code",
   "execution_count": null,
   "id": "eef5b9f3",
   "metadata": {},
   "outputs": [],
   "source": [
    "with open(os.path.join('saved_runs/', file_name), 'rb') as f:\n",
    "    saved_run = pickle.load(f)\n",
    "%matplotlib notebook\n",
    "    \n",
    "data = saved_run['task'].gen_data(0, 20000)\n",
    "i_checkpoint = 999000\n",
    "checkpoint = checkpoints['checkpoint_{}'.format(i_checkpoint)]\n",
    "transform = Vanilla_PCA(checkpoint, data)\n",
    "ssa_2 = State_Space_Analysis(checkpoint, data, transform=transform)\n",
    "ssa_2 = plot_checkpoint_results(checkpoint, data, ssa=ssa_2,\n",
    "                                plot_cluster_means=False,\n",
    "                                eig_norm_color=False,\n",
    "                                plot_test_points=False,\n",
    "                                plot_fixed_points=True,\n",
    "                                plot_graph_structure=True,\n",
    "                                n_test_samples=None,\n",
    "                                graph_key='adjmat_input_0')"
   ]
  },
  {
   "cell_type": "code",
   "execution_count": null,
   "id": "85e9a415",
   "metadata": {},
   "outputs": [],
   "source": [
    "checkpoint_lists = []\n",
    "#file_names = ['RTRL_long_check', 'RTRL_long_check_mu06', 'RTRL_long_check_mu06_ke1200']\n",
    "file_names = ['BPTT_lr0p001']\n",
    "for file_name in file_names:\n",
    "    \n",
    "    saved_run_name = file_name\n",
    "    analysis_job_name = 'analyze_{}'.format(saved_run_name)\n",
    "    compare_job_name = 'compare_{}'.format(saved_run_name)\n",
    "\n",
    "    results_dir = '/scratch/oem214/learning-dynamics/results/'\n",
    "\n",
    "    analysis_result_path = os.path.join(results_dir, analysis_job_name)\n",
    "    indices, checkpoints = unpack_analysis_results(analysis_result_path)\n",
    "    \n",
    "    checkpoint_list = [checkpoints['checkpoint_{}'.format(i)] for i in sorted(indices)]\n",
    "    checkpoint_lists.append(checkpoint_list)\n",
    "\n",
    "plot_projection_of_rec_weights(checkpoint_lists)"
   ]
  },
  {
   "cell_type": "code",
   "execution_count": null,
   "id": "99cebeca",
   "metadata": {},
   "outputs": [],
   "source": [
    "checkpoint_list[0]"
   ]
  },
  {
   "cell_type": "code",
   "execution_count": null,
   "id": "c5c4593f",
   "metadata": {},
   "outputs": [],
   "source": [
    "for i_index, index in enumerate(indices):\n",
    "    \n",
    "    if i_index == 0:\n",
    "        continue\n",
    "    \n",
    "    i_checkpoint_1 = indices[i_index - 1]\n",
    "    i_checkpoint_2 = indices[i_index]\n",
    "    \n",
    "    align_checkpoints(checkpoints['checkpoint_{}'.format(i_checkpoint_2)],\n",
    "                      checkpoints['checkpoint_{}'.format(i_checkpoint_1)])\n",
    "    \n",
    "    "
   ]
  },
  {
   "cell_type": "code",
   "execution_count": null,
   "id": "1d9cf61a",
   "metadata": {},
   "outputs": [],
   "source": [
    "i_checkpoint = 187000\n",
    "checkpoint = checkpoints['checkpoint_{}'.format(i_checkpoint)]\n",
    "fig = plot_input_dependent_topology(checkpoint, return_fig=True)\n",
    "#fig.savefig(os.path.join(figs_path, 'low_lr_RTRL_final_topology.pdf'), format='pdf')"
   ]
  },
  {
   "cell_type": "code",
   "execution_count": null,
   "id": "d384efbb",
   "metadata": {},
   "outputs": [],
   "source": [
    "checkpoint.keys()"
   ]
  },
  {
   "cell_type": "code",
   "execution_count": null,
   "id": "11c5e5c2",
   "metadata": {},
   "outputs": [],
   "source": [
    "i_checkpoint = 992500\n",
    "checkpoint = checkpoints['checkpoint_{}'.format(i_checkpoint)]\n",
    "checkpoint['adjmat_input_0']"
   ]
  },
  {
   "cell_type": "code",
   "execution_count": null,
   "id": "4e32bbee",
   "metadata": {},
   "outputs": [],
   "source": [
    "np.where(signals['aligned_graph_distances']>0.05)"
   ]
  },
  {
   "cell_type": "code",
   "execution_count": null,
   "id": "bf6059ee",
   "metadata": {},
   "outputs": [],
   "source": [
    "14*500"
   ]
  },
  {
   "cell_type": "code",
   "execution_count": null,
   "id": "fa9291ed",
   "metadata": {},
   "outputs": [],
   "source": [
    "fig = plot_output_from_checkpoint(checkpoint, data)\n",
    "#fig.savefig(os.path.join(figs_path, 'low_lr_RTRL_final_output.pdf'), format='pdf')"
   ]
  },
  {
   "cell_type": "code",
   "execution_count": null,
   "id": "0bb2bd40",
   "metadata": {},
   "outputs": [],
   "source": [
    "file_name = 'original_RFLO'\n",
    "saved_run_name = 'original_RFLO'\n",
    "analysis_job_name = 'analyze_{}'.format(saved_run_name)\n",
    "compare_job_name = 'compare_{}'.format(saved_run_name)\n",
    "\n",
    "results_dir = '/scratch/oem214/learning-dynamics/results/'\n",
    "\n",
    "analysis_result_path = os.path.join(results_dir, analysis_job_name)\n",
    "indices, checkpoints = unpack_analysis_results(analysis_result_path)\n",
    "signals = unpack_compare_result(file_name, checkpoint_stats={'test_loss': get_checkpoint_loss})"
   ]
  },
  {
   "cell_type": "code",
   "execution_count": null,
   "id": "3ff42a19",
   "metadata": {},
   "outputs": [],
   "source": [
    "fig = plot_signals(signals, x_values=indices, signal_clips={'rec_weight_distances': 5})\n",
    "figs_path = 'figs/compare_algorithms/'"
   ]
  },
  {
   "cell_type": "code",
   "execution_count": null,
   "id": "0f6bb115",
   "metadata": {},
   "outputs": [],
   "source": [
    "i_1 = 6000\n",
    "i_2 = 6100\n",
    "checkpoint_1 = checkpoints['checkpoint_{}'.format(i_1)]\n",
    "checkpoint_2 = checkpoints['checkpoint_{}'.format(i_2)]\n",
    "align_checkpoints_based_on_output(checkpoint_2, checkpoint_1)\n",
    "plot_input_dependent_topology(checkpoint_1)\n",
    "plot_input_dependent_topology(checkpoint_2)\n",
    "\n"
   ]
  },
  {
   "cell_type": "code",
   "execution_count": null,
   "id": "40479863",
   "metadata": {},
   "outputs": [],
   "source": [
    "for i in range(6):\n",
    "    fig = plt.figure()\n",
    "    plt.imshow(checkpoint_1['forwardshared_adjmat_input_{}'.format(i)])\n",
    "    fig = plt.figure()\n",
    "    plt.imshow(checkpoint_2['backshared_adjmat_input_{}'.format(i)])"
   ]
  },
  {
   "cell_type": "code",
   "execution_count": null,
   "id": "036a24f0",
   "metadata": {},
   "outputs": [],
   "source": [
    "align_checkpoints_based_on_output(checkpoint_2, checkpoint_1)\n",
    "align_checkpoints_based_on_output(checkpoint_1, checkpoint_2)\n",
    "for i in range(6):\n",
    "    fig = plt.figure()\n",
    "    plt.imshow(checkpoint_1['forwardembed_adjmat_input_{}'.format(i)])\n",
    "    fig = plt.figure()\n",
    "    plt.imshow(checkpoint_1['backembed_adjmat_input_{}'.format(i)])\n",
    "    fig = plt.figure()\n",
    "    plt.imshow(checkpoint_2['adjmat_input_{}'.format(i)])\n",
    "    "
   ]
  },
  {
   "cell_type": "code",
   "execution_count": null,
   "id": "7e29ec71",
   "metadata": {},
   "outputs": [],
   "source": [
    "checkpoint_2['nodes'].shape"
   ]
  }
 ],
 "metadata": {
  "kernelspec": {
   "display_name": "Python 3",
   "language": "python",
   "name": "python3"
  },
  "language_info": {
   "codemirror_mode": {
    "name": "ipython",
    "version": 3
   },
   "file_extension": ".py",
   "mimetype": "text/x-python",
   "name": "python",
   "nbconvert_exporter": "python",
   "pygments_lexer": "ipython3",
   "version": "3.8.5"
  }
 },
 "nbformat": 4,
 "nbformat_minor": 5
}
