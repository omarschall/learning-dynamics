{
 "cells": [
  {
   "cell_type": "code",
   "execution_count": 1,
   "id": "ddd464f7",
   "metadata": {},
   "outputs": [],
   "source": [
    "import sys, os, pickle\n",
    "sys.path.append('/scratch/oem214/vanilla-rtrl/')\n",
    "from cluster import *\n",
    "from continual_learning import *\n",
    "from core import *\n",
    "from dynamics import *\n",
    "from functions import *\n",
    "from gen_data import *\n",
    "from learning_algorithms import *\n",
    "from optimizers import *\n",
    "from plotting import *\n",
    "from wrappers import *"
   ]
  },
  {
   "cell_type": "code",
   "execution_count": null,
   "id": "43f5b630",
   "metadata": {},
   "outputs": [],
   "source": [
    "### --- SET UP ALL CONFIGS --- ###\n",
    "from itertools import product\n",
    "n_seeds = 5\n",
    "macro_configs = config_generator(lr=[0.0003, 0.001, 0.003],\n",
    "                                 phi=['tanh', 'relu'],\n",
    "                                 mu=[0.3, 0.6, 0.9],\n",
    "                                 n_h=[32, 64])\n",
    "micro_configs = tuple(product(macro_configs, list(range(n_seeds))))\n",
    "\n",
    "### --- SELECT PARTICULAR CONFIG --- ###\n",
    "try:\n",
    "    i_job = int(os.environ['SLURM_ARRAY_TASK_ID']) - 1\n",
    "except KeyError:\n",
    "    i_job = 0\n",
    "params, i_seed = micro_configs[i_job]\n",
    "i_config = i_job//n_seeds\n",
    "\n",
    "new_random_seed_per_condition = True\n",
    "if new_random_seed_per_condition:\n",
    "    np.random.seed(i_job)\n",
    "else: #Match random seeds across conditions\n",
    "    np.random.seed(i_seed)"
   ]
  },
  {
   "cell_type": "code",
   "execution_count": null,
   "id": "90fc9188",
   "metadata": {},
   "outputs": [],
   "source": [
    "task = Flip_Flop_Task(3, 0.05, input_magnitudes=None)\n",
    "N_train = 200000\n",
    "N_test = 5000\n",
    "checkpoint_interval = None\n",
    "sigma = 0\n",
    "\n",
    "data = task.gen_data(N_train, N_test)\n",
    "\n",
    "n_in = task.n_in\n",
    "n_hidden = params['n_h']\n",
    "n_out = task.n_out\n",
    "W_in  = np.random.normal(0, np.sqrt(1/(n_in)), (n_hidden, n_in))\n",
    "W_rec = np.random.normal(0, np.sqrt(1/n_hidden), (n_hidden, n_hidden))\n",
    "W_out = np.random.normal(0, np.sqrt(1/(n_hidden)), (n_out, n_hidden))\n",
    "\n",
    "b_rec = np.zeros(n_hidden)\n",
    "b_out = np.zeros(n_out)\n",
    "\n",
    "alpha = 1\n",
    "sigma = 0\n",
    "\n",
    "if params['phi'] == 'tanh':\n",
    "    phi = tanh\n",
    "elif params['phi'] == 'relu':\n",
    "    phi = relu\n",
    "    \n",
    "rnn = RNN(W_in, W_rec, W_out, b_rec, b_out,\n",
    "          activation=phi,\n",
    "          alpha=alpha,\n",
    "          output=identity,\n",
    "          loss=mean_squared_error)\n",
    "\n",
    "#learn_alg = Efficient_BPTT(rnn, T_truncation=6, L2_reg=0.0001, L1_reg=0.0001)\n",
    "#sg_optimizer = Stochastic_Gradient_Descent(lr=0.001)\n",
    "#learn_alg = DNI(rnn, sg_optimizer)\n",
    "#learn_alg = KF_RTRL(rnn, L2_reg=0.0001, L1_reg=0.0001)\n",
    "learn_alg = RFLO(rnn, alpha=alpha, L2_reg=0.0001, L1_reg=0.0001)\n",
    "optimizer = SGD_Momentum(lr=params['lr'], mu=params['mu'])\n",
    "\n",
    "monitors = []\n",
    "\n",
    "sim = Simulation(rnn)\n",
    "sim.run(data, learn_alg=learn_alg, optimizer=optimizer,\n",
    "        sigma=sigma,\n",
    "        monitors=monitors,\n",
    "        verbose=True,\n",
    "        report_accuracy=False,\n",
    "        report_loss=True,\n",
    "        checkpoint_interval=checkpoint_interval)"
   ]
  },
  {
   "cell_type": "code",
   "execution_count": null,
   "id": "af9596b3",
   "metadata": {},
   "outputs": [],
   "source": [
    "### --- Analyze final checkpoint --- ###\n",
    "\n",
    "checkpoint = sim.checkpoints[max(sim.checkpoints.keys())]\n",
    "\n",
    "default_analysis_args = {'sigma_pert': 0.5, 'N': 1200, 'KE_criterion': 0.001,\n",
    "                         'N_iters': 10000, 'same_LR_criterion': 9000,\n",
    "                         'sigma': 0}\n",
    "default_graph_args = {'N': 100, 'time_steps': 50, 'epsilon': 0.01,\n",
    "                      'sigma': 0}\n",
    "default_input_graph_args = {'N': 100, 'time_steps': 50, 'epsilon': 0.01,\n",
    "                            'sigma': 0}\n",
    "\n",
    "analyze_checkpoint(checkpoint, data, verbose=False, parallelize=False,\n",
    "                   **default_analysis_args)\n",
    "\n",
    "get_graph_structure(checkpoint, parallelize=False, background_input=0,\n",
    "                    **default_graph_args)\n",
    "get_input_dependent_graph_structure(checkpoint,\n",
    "                                    parallelize=False,\n",
    "                                    inputs=task.probe_inputs,\n",
    "                                    **default_input_graph_args)\n",
    "processed_data = np.mean(checkpoint['nodes'].shape[0])"
   ]
  },
  {
   "cell_type": "code",
   "execution_count": null,
   "id": "fbb05651",
   "metadata": {},
   "outputs": [],
   "source": [
    "### --- SAVE RESULTS -- ###\n",
    "result = {'sim': sim, 'i_seed': i_seed, 'task': task,\n",
    "          'config': params, 'i_config': i_config, 'i_job': i_job}\n",
    "try:\n",
    "    result['processed_data'] = processed_data\n",
    "except NameError:\n",
    "    pass\n",
    "    \n",
    "try:\n",
    "    save_dir = os.environ['SAVEDIR']\n",
    "    if not os.path.exists(save_dir):\n",
    "        os.mkdir(save_dir)\n",
    "    save_path = os.path.join(save_dir, 'result_{}'.format(i_job))\n",
    "\n",
    "    with open(save_path, 'wb') as f:\n",
    "        pickle.dump(result, f)\n",
    "except KeyError:\n",
    "    pass"
   ]
  },
  {
   "cell_type": "code",
   "execution_count": null,
   "id": "6c24e3e8",
   "metadata": {},
   "outputs": [],
   "source": [
    "###Truncate file above\n",
    "file_name = 'array_end_topology'\n",
    "job_name = 'RELU_end_array'\n",
    "get_ipython().run_cell_magic('javascript', '', 'IPython.notebook.save_notebook()')\n",
    "get_ipython().system('jupyter nbconvert --to script --no-prompt {}.ipynb'.format(file_name))\n",
    "get_ipython().system('awk \"/###Truncate/ {{exit}} {{print}}\" {}.py'.format(file_name))\n",
    "get_ipython().system('sed -i \"/###Truncate/Q\" {}.py'.format(file_name))\n",
    "get_ipython().system('mv {}.py ../cluster_main_scripts/{}.py'.format(file_name, job_name))"
   ]
  },
  {
   "cell_type": "code",
   "execution_count": null,
   "id": "db551d25",
   "metadata": {},
   "outputs": [],
   "source": [
    "###Submit job to cluster\n",
    "n_jobs = len(micro_configs)\n",
    "write_job_file(job_name, py_file_name='{}.py'.format(job_name))\n",
    "job_id_1 = submit_job('../job_scripts/{}.s'.format(job_name), n_jobs)"
   ]
  },
  {
   "cell_type": "code",
   "execution_count": 2,
   "id": "c0b7b6f7",
   "metadata": {},
   "outputs": [],
   "source": [
    "job_name = 'RELU_end_array'"
   ]
  },
  {
   "cell_type": "code",
   "execution_count": null,
   "id": "20547c0a",
   "metadata": {
    "scrolled": true
   },
   "outputs": [],
   "source": [
    "###Get job status\n",
    "get_ipython().system('squeue -u oem214')"
   ]
  },
  {
   "cell_type": "code",
   "execution_count": 3,
   "id": "2358506d",
   "metadata": {},
   "outputs": [],
   "source": [
    "configs_array, results_array, key_order, sim_dict = unpack_processed_data('../job_scripts/{}.s'.format(job_name))"
   ]
  },
  {
   "cell_type": "code",
   "execution_count": null,
   "id": "de44b399",
   "metadata": {},
   "outputs": [],
   "source": [
    "fig = plot_2d_array_of_config_results(configs_array, results_array, key_order,\n",
    "                                      log_scale=False, tick_rounding=5, vmin=0, vmax=1)"
   ]
  },
  {
   "cell_type": "code",
   "execution_count": 8,
   "id": "01978b06",
   "metadata": {},
   "outputs": [
    {
     "data": {
      "image/png": "[encoded data removed]",
      "text/plain": [
       "<Figure size 720x1080 with 6 Axes>"
      ]
     },
     "metadata": {
      "needs_background": "light"
     },
     "output_type": "display_data"
    }
   ],
   "source": [
    "fig = plot_3d_or_4d_array_of_config_results(configs_array, results_array, key_order, tick_rounding=5,\n",
    "                                            vmin=0, vmax=8)"
   ]
  },
  {
   "cell_type": "code",
   "execution_count": 9,
   "id": "3a885b90",
   "metadata": {},
   "outputs": [],
   "source": [
    "figs_path = 'figs/compare_algorithms/'\n",
    "fig.savefig(os.path.join(figs_path, '{}.pdf'.format('RELU_n_nodes_array')), format='pdf')"
   ]
  },
  {
   "cell_type": "code",
   "execution_count": null,
   "id": "d3a6de23",
   "metadata": {},
   "outputs": [],
   "source": [
    "key_order"
   ]
  },
  {
   "cell_type": "code",
   "execution_count": null,
   "id": "9c6b6541",
   "metadata": {},
   "outputs": [],
   "source": [
    "sim = sim_dict['0.001_0.9_32_3']\n",
    "plot_output_from_checkpoint(sim.checkpoints[max(sim.checkpoints.keys())], data)"
   ]
  },
  {
   "cell_type": "code",
   "execution_count": null,
   "id": "0df313a9",
   "metadata": {},
   "outputs": [],
   "source": [
    "task = Flip_Flop_Task(3, 0.05, input_magnitudes=None)\n",
    "N_train = 200000\n",
    "N_test = 5000\n",
    "checkpoint_interval = None\n",
    "sigma = 0\n",
    "\n",
    "data = task.gen_data(N_train, N_test)"
   ]
  },
  {
   "cell_type": "code",
   "execution_count": null,
   "id": "a2a846bd",
   "metadata": {},
   "outputs": [],
   "source": [
    "configs_array"
   ]
  }
 ],
 "metadata": {
  "kernelspec": {
   "display_name": "Python 3",
   "language": "python",
   "name": "python3"
  },
  "language_info": {
   "codemirror_mode": {
    "name": "ipython",
    "version": 3
   },
   "file_extension": ".py",
   "mimetype": "text/x-python",
   "name": "python",
   "nbconvert_exporter": "python",
   "pygments_lexer": "ipython3",
   "version": "3.8.5"
  }
 },
 "nbformat": 4,
 "nbformat_minor": 5
}
