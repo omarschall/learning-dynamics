{
 "cells": [
  {
   "cell_type": "code",
   "execution_count": 2,
   "id": "ddd464f7",
   "metadata": {},
   "outputs": [],
   "source": [
    "import sys, os, pickle\n",
    "sys.path.append('/scratch/oem214/vanilla-rtrl/')\n",
    "from cluster import *\n",
    "from continual_learning import *\n",
    "from core import *\n",
    "from dynamics import *\n",
    "from functions import *\n",
    "from gen_data import *\n",
    "from learning_algorithms import *\n",
    "from optimizers import *\n",
    "from plotting import *\n",
    "from wrappers import *"
   ]
  },
  {
   "cell_type": "code",
   "execution_count": 3,
   "id": "43f5b630",
   "metadata": {},
   "outputs": [],
   "source": [
    "### --- SET UP ALL CONFIGS --- ###\n",
    "from itertools import product\n",
    "n_seeds = 20\n",
    "macro_configs = config_generator(mu=[0, 0.3, 0.6, 0.9],\n",
    "                                 clip=[0.1, 0.3, 1, 3, 10, 1000])\n",
    "micro_configs = tuple(product(macro_configs, list(range(n_seeds))))\n",
    "\n",
    "### --- SELECT PARTICULAR CONFIG --- ###\n",
    "try:\n",
    "    i_job = int(os.environ['SLURM_ARRAY_TASK_ID']) - 1\n",
    "except KeyError:\n",
    "    i_job = 0\n",
    "params, i_seed = micro_configs[i_job]\n",
    "i_config = i_job//n_seeds\n",
    "\n",
    "new_random_seed_per_condition = True\n",
    "if new_random_seed_per_condition:\n",
    "    np.random.seed(i_job)\n",
    "else: #Match random seeds across conditions\n",
    "    np.random.seed(i_seed)"
   ]
  },
  {
   "cell_type": "code",
   "execution_count": null,
   "id": "90fc9188",
   "metadata": {},
   "outputs": [],
   "source": [
    "task = Flip_Flop_Task(3, 0.05, input_magnitudes=None)\n",
    "N_train = 1000000\n",
    "N_test = 5000\n",
    "checkpoint_interval = None\n",
    "sigma = 0\n",
    "\n",
    "data = task.gen_data(N_train, N_test)\n",
    "\n",
    "n_in = task.n_in\n",
    "n_hidden = 32\n",
    "n_out = task.n_out\n",
    "W_in  = np.random.normal(0, np.sqrt(1/(n_in)), (n_hidden, n_in))\n",
    "W_rec = np.random.normal(0, np.sqrt(1/n_hidden), (n_hidden, n_hidden))\n",
    "W_out = np.random.normal(0, np.sqrt(1/(n_hidden)), (n_out, n_hidden))\n",
    "\n",
    "b_rec = np.zeros(n_hidden)\n",
    "b_out = np.zeros(n_out)\n",
    "\n",
    "alpha = 1\n",
    "sigma = 0\n",
    "\n",
    "rnn = RNN(W_in, W_rec, W_out, b_rec, b_out,\n",
    "          activation=tanh,\n",
    "          alpha=alpha,\n",
    "          output=identity,\n",
    "          loss=mean_squared_error)\n",
    "\n",
    "learn_alg = RFLO(rnn, alpha=alpha, L2_reg=0.0001, L1_reg=0.0001, )\n",
    "optimizer = SGD_Momentum(lr=0.0001, mu=params['mu'], clip_norm=params['clip'])\n",
    "\n",
    "monitors = []\n",
    "\n",
    "sim = Simulation(rnn)\n",
    "sim.run(data, learn_alg=learn_alg, optimizer=optimizer,\n",
    "        sigma=sigma,\n",
    "        monitors=monitors,\n",
    "        verbose=True,\n",
    "        report_accuracy=False,\n",
    "        report_loss=True,\n",
    "        checkpoint_interval=checkpoint_interval)"
   ]
  },
  {
   "cell_type": "code",
   "execution_count": null,
   "id": "af9596b3",
   "metadata": {},
   "outputs": [],
   "source": [
    "test_sim = Simulation(rnn)\n",
    "test_sim.run(data, mode='test', monitors=['rnn.loss_'], verbose=False)\n",
    "processed_data = np.mean(test_sim.mons['rnn.loss_'])"
   ]
  },
  {
   "cell_type": "code",
   "execution_count": null,
   "id": "fbb05651",
   "metadata": {},
   "outputs": [],
   "source": [
    "### --- SAVE RESULTS -- ###\n",
    "result = {'sim': sim, 'i_seed': i_seed, 'task': task,\n",
    "          'config': params, 'i_config': i_config, 'i_job': i_job}\n",
    "try:\n",
    "    result['processed_data'] = processed_data\n",
    "except NameError:\n",
    "    pass\n",
    "    \n",
    "try:\n",
    "    save_dir = os.environ['SAVEDIR']\n",
    "    if not os.path.exists(save_dir):\n",
    "        os.mkdir(save_dir)\n",
    "    save_path = os.path.join(save_dir, 'result_{}'.format(i_job))\n",
    "\n",
    "    with open(save_path, 'wb') as f:\n",
    "        pickle.dump(result, f)\n",
    "except KeyError:\n",
    "    pass"
   ]
  },
  {
   "cell_type": "code",
   "execution_count": 4,
   "id": "6c24e3e8",
   "metadata": {},
   "outputs": [
    {
     "data": {
      "application/javascript": [
       "IPython.notebook.save_notebook()"
      ],
      "text/plain": [
       "<IPython.core.display.Javascript object>"
      ]
     },
     "metadata": {},
     "output_type": "display_data"
    },
    {
     "name": "stdout",
     "output_type": "stream",
     "text": [
      "[NbConvertApp] Converting notebook pipeline_test.ipynb to script\n",
      "[NbConvertApp] Writing 4610 bytes to pipeline_test.py\n",
      "awk: 1: unexpected character '.'\n"
     ]
    }
   ],
   "source": [
    "###Truncate file above\n",
    "file_name = 'pipeline_test'\n",
    "job_name = 'rtrl_low_lr'\n",
    "get_ipython().run_cell_magic('javascript', '', 'IPython.notebook.save_notebook()')\n",
    "get_ipython().system('jupyter nbconvert --to script --no-prompt {}.ipynb'.format(file_name))\n",
    "get_ipython().system('awk \"/###Truncate/ {{exit}} {{print}}\" {}.py'.format(file_name))\n",
    "get_ipython().system('sed -i \"/###Truncate/Q\" {}.py'.format(file_name))\n",
    "get_ipython().system('mv {}.py ../cluster_main_scripts/{}.py'.format(file_name, job_name))"
   ]
  },
  {
   "cell_type": "code",
   "execution_count": 5,
   "id": "db551d25",
   "metadata": {},
   "outputs": [
    {
     "name": "stdout",
     "output_type": "stream",
     "text": [
      "sending incremental file list\r\n",
      "vanilla-rtrl/.idea/\r\n",
      "vanilla-rtrl/.idea/workspace.xml\r\n",
      "vanilla-rtrl/cluster/\r\n",
      "vanilla-rtrl/cluster/submit_jobs.py\r\n",
      "vanilla-rtrl/cluster/__pycache__/\r\n",
      "vanilla-rtrl/cluster/__pycache__/submit_jobs.cpython-37.pyc\r\n",
      "vanilla-rtrl/cluster/__pycache__/submit_jobs.cpython-38.pyc\r\n",
      "\r\n",
      "sent 68,062 bytes  received 134 bytes  136,392.00 bytes/sec\r\n",
      "total size is 1,244,658  speedup is 18.25\r\n"
     ]
    }
   ],
   "source": [
    "###Submit job to cluster\n",
    "n_jobs = len(micro_configs)\n",
    "write_job_file(job_name, py_file_name='{}.py'.format(job_name))\n",
    "job_id_1 = submit_job('../job_scripts/{}.s'.format(job_name), n_jobs)"
   ]
  },
  {
   "cell_type": "code",
   "execution_count": null,
   "id": "c0b7b6f7",
   "metadata": {},
   "outputs": [],
   "source": [
    "job_name = 'rtrl_low_lr'"
   ]
  },
  {
   "cell_type": "code",
   "execution_count": 7,
   "id": "20547c0a",
   "metadata": {
    "scrolled": true
   },
   "outputs": [
    {
     "name": "stdout",
     "output_type": "stream",
     "text": [
      "             JOBID PARTITION     NAME     USER ST       TIME  NODES NODELIST(REASON)\r\n",
      "       7876658_476        cm rtrl_low   oem214  R       0:31      1 cm22\r\n",
      "       7876658_477        cm rtrl_low   oem214  R       0:31      1 cm22\r\n",
      "       7876658_457        cm rtrl_low   oem214  R       0:31      1 cm15\r\n",
      "       7876658_475        cm rtrl_low   oem214  R       0:31      1 cm10\r\n",
      "       7876658_478        cm rtrl_low   oem214  R       0:31      1 cm32\r\n",
      "       7876658_479        cm rtrl_low   oem214  R       0:31      1 cm28\r\n",
      "       7876658_444        cm rtrl_low   oem214  R       0:34      1 cm23\r\n",
      "       7876658_446        cm rtrl_low   oem214  R       0:34      1 cm23\r\n",
      "       7876658_437        cm rtrl_low   oem214  R       0:35      1 cm23\r\n",
      "       7876658_439        cm rtrl_low   oem214  R       0:35      1 cm23\r\n",
      "       7876658_429        cm rtrl_low   oem214  R       0:36      1 cm20\r\n",
      "       7876658_425        cm rtrl_low   oem214  R       0:37      1 cm20\r\n",
      "       7876658_416        cm rtrl_low   oem214  R       0:38      1 cm20\r\n",
      "       7876658_409        cm rtrl_low   oem214  R       0:39      1 cm20\r\n",
      "       7876658_399        cm rtrl_low   oem214  R       0:41      1 cm23\r\n",
      "       7876658_395        cm rtrl_low   oem214  R       0:42      1 cm23\r\n",
      "       7876658_376        cm rtrl_low   oem214  R       1:36      1 cm32\r\n",
      "       7876658_377        cm rtrl_low   oem214  R       1:36      1 cm32\r\n",
      "       7876658_375        cm rtrl_low   oem214  R       1:53      1 cm25\r\n",
      "           7869826        cs  jupyter   oem214  R    3:13:23      1 cs028\r\n",
      "       7876658_223        cs rtrl_low   oem214  R       5:31      1 cs491\r\n",
      "       7876658_361        cs rtrl_low   oem214  R       5:14      1 cs006\r\n",
      "       7876658_362        cs rtrl_low   oem214  R       5:14      1 cs006\r\n",
      "       7876658_363        cs rtrl_low   oem214  R       5:14      1 cs006\r\n",
      "       7876658_364        cs rtrl_low   oem214  R       5:14      1 cs006\r\n",
      "       7876658_365        cs rtrl_low   oem214  R       5:14      1 cs006\r\n",
      "       7876658_371        cs rtrl_low   oem214  R       5:14      1 cs007\r\n",
      "       7876658_372        cs rtrl_low   oem214  R       5:14      1 cs007\r\n",
      "       7876658_373        cs rtrl_low   oem214  R       5:14      1 cs008\r\n",
      "       7876658_295        cs rtrl_low   oem214  R       5:15      1 cs401\r\n",
      "       7876658_296        cs rtrl_low   oem214  R       5:15      1 cs401\r\n",
      "       7876658_297        cs rtrl_low   oem214  R       5:15      1 cs401\r\n",
      "       7876658_298        cs rtrl_low   oem214  R       5:15      1 cs401\r\n",
      "       7876658_306        cs rtrl_low   oem214  R       5:15      1 cs415\r\n",
      "       7876658_307        cs rtrl_low   oem214  R       5:15      1 cs416\r\n",
      "       7876658_308        cs rtrl_low   oem214  R       5:15      1 cs416\r\n",
      "       7876658_458        cs rtrl_low   oem214  R       0:31      1 cs450\r\n",
      "       7876658_459        cs rtrl_low   oem214  R       0:31      1 cs458\r\n",
      "       7876658_460        cs rtrl_low   oem214  R       0:31      1 cs485\r\n",
      "       7876658_461        cs rtrl_low   oem214  R       0:31      1 cs485\r\n",
      "       7876658_462        cs rtrl_low   oem214  R       0:31      1 cs485\r\n",
      "       7876658_463        cs rtrl_low   oem214  R       0:31      1 cs485\r\n",
      "       7876658_464        cs rtrl_low   oem214  R       0:31      1 cs485\r\n",
      "       7876658_465        cs rtrl_low   oem214  R       0:31      1 cs485\r\n",
      "       7876658_466        cs rtrl_low   oem214  R       0:31      1 cs485\r\n",
      "       7876658_467        cs rtrl_low   oem214  R       0:31      1 cs485\r\n",
      "       7876658_468        cs rtrl_low   oem214  R       0:31      1 cs485\r\n",
      "       7876658_469        cs rtrl_low   oem214  R       0:31      1 cs518\r\n",
      "       7876658_470        cs rtrl_low   oem214  R       0:31      1 cs066\r\n",
      "       7876658_471        cs rtrl_low   oem214  R       0:31      1 cs066\r\n",
      "       7876658_472        cs rtrl_low   oem214  R       0:31      1 cs066\r\n",
      "       7876658_473        cs rtrl_low   oem214  R       0:31      1 cs066\r\n",
      "       7876658_474        cs rtrl_low   oem214  R       0:31      1 cs066\r\n",
      "       7876658_480        cs rtrl_low   oem214  R       0:31      1 cs073\r\n",
      "       7876658_445        cs rtrl_low   oem214  R       0:34      1 cs370\r\n",
      "       7876658_440        cs rtrl_low   oem214  R       0:35      1 cs331\r\n",
      "       7876658_426        cs rtrl_low   oem214  R       0:37      1 cs424\r\n",
      "       7876658_410        cs rtrl_low   oem214  R       0:39      1 cs073\r\n",
      "       7876658_400        cs rtrl_low   oem214  R       0:41      1 cs416\r\n",
      "       7876658_453        cs rtrl_low   oem214  R       0:33      1 cs230\r\n",
      "       7876658_454        cs rtrl_low   oem214  R       0:33      1 cs296\r\n",
      "       7876658_455        cs rtrl_low   oem214  R       0:33      1 cs424\r\n",
      "       7876658_456        cs rtrl_low   oem214  R       0:33      1 cs426\r\n",
      "       7876658_441        cs rtrl_low   oem214  R       0:34      1 cs298\r\n",
      "       7876658_442        cs rtrl_low   oem214  R       0:34      1 cs109\r\n",
      "       7876658_443        cs rtrl_low   oem214  R       0:34      1 cs370\r\n",
      "       7876658_447        cs rtrl_low   oem214  R       0:34      1 cs192\r\n",
      "       7876658_448        cs rtrl_low   oem214  R       0:34      1 cs293\r\n",
      "       7876658_449        cs rtrl_low   oem214  R       0:34      1 cs426\r\n",
      "       7876658_450        cs rtrl_low   oem214  R       0:34      1 cs075\r\n",
      "       7876658_451        cs rtrl_low   oem214  R       0:34      1 cs105\r\n",
      "       7876658_452        cs rtrl_low   oem214  R       0:34      1 cs105\r\n",
      "       7876658_433        cs rtrl_low   oem214  R       0:35      1 cs370\r\n",
      "       7876658_434        cs rtrl_low   oem214  R       0:35      1 cs194\r\n",
      "       7876658_435        cs rtrl_low   oem214  R       0:35      1 cs426\r\n",
      "       7876658_436        cs rtrl_low   oem214  R       0:35      1 cs127\r\n",
      "       7876658_438        cs rtrl_low   oem214  R       0:35      1 cs145\r\n",
      "       7876658_427        cs rtrl_low   oem214  R       0:36      1 cs073\r\n",
      "       7876658_428        cs rtrl_low   oem214  R       0:36      1 cs293\r\n",
      "       7876658_430        cs rtrl_low   oem214  R       0:36      1 cs296\r\n",
      "       7876658_431        cs rtrl_low   oem214  R       0:36      1 cs194\r\n",
      "       7876658_432        cs rtrl_low   oem214  R       0:36      1 cs426\r\n",
      "       7876658_421        cs rtrl_low   oem214  R       0:37      1 cs017\r\n",
      "       7876658_422        cs rtrl_low   oem214  R       0:37      1 cs075\r\n",
      "       7876658_423        cs rtrl_low   oem214  R       0:37      1 cs079\r\n",
      "       7876658_424        cs rtrl_low   oem214  R       0:37      1 cs194\r\n",
      "       7876658_414        cs rtrl_low   oem214  R       0:38      1 cs070\r\n",
      "       7876658_415        cs rtrl_low   oem214  R       0:38      1 cs109\r\n",
      "       7876658_417        cs rtrl_low   oem214  R       0:38      1 cs038\r\n",
      "       7876658_418        cs rtrl_low   oem214  R       0:38      1 cs194\r\n",
      "       7876658_419        cs rtrl_low   oem214  R       0:38      1 cs079\r\n",
      "       7876658_420        cs rtrl_low   oem214  R       0:38      1 cs370\r\n",
      "       7876658_411        cs rtrl_low   oem214  R       0:39      1 cs073\r\n",
      "       7876658_412        cs rtrl_low   oem214  R       0:39      1 cs075\r\n",
      "       7876658_413        cs rtrl_low   oem214  R       0:39      1 cs075\r\n",
      "       7876658_401        cs rtrl_low   oem214  R       0:40      1 cs194\r\n",
      "       7876658_402        cs rtrl_low   oem214  R       0:40      1 cs424\r\n",
      "       7876658_403        cs rtrl_low   oem214  R       0:40      1 cs403\r\n",
      "       7876658_404        cs rtrl_low   oem214  R       0:40      1 cs179\r\n",
      "       7876658_405        cs rtrl_low   oem214  R       0:40      1 cs426\r\n",
      "       7876658_406        cs rtrl_low   oem214  R       0:40      1 cs426\r\n",
      "       7876658_407        cs rtrl_low   oem214  R       0:40      1 cs426\r\n",
      "       7876658_408        cs rtrl_low   oem214  R       0:40      1 cs426\r\n",
      "       7876658_397        cs rtrl_low   oem214  R       0:41      1 cs079\r\n",
      "       7876658_398        cs rtrl_low   oem214  R       0:41      1 cs109\r\n",
      "       7876658_393        cs rtrl_low   oem214  R       0:42      1 cs029\r\n",
      "       7876658_394        cs rtrl_low   oem214  R       0:42      1 cs075\r\n",
      "       7876658_396        cs rtrl_low   oem214  R       0:42      1 cs075\r\n",
      "       7876658_386        cs rtrl_low   oem214  R       0:43      1 cs073\r\n",
      "       7876658_387        cs rtrl_low   oem214  R       0:43      1 cs075\r\n",
      "       7876658_388        cs rtrl_low   oem214  R       0:43      1 cs079\r\n",
      "       7876658_389        cs rtrl_low   oem214  R       0:43      1 cs079\r\n",
      "       7876658_390        cs rtrl_low   oem214  R       0:43      1 cs079\r\n",
      "       7876658_391        cs rtrl_low   oem214  R       0:43      1 cs226\r\n",
      "       7876658_392        cs rtrl_low   oem214  R       0:43      1 cs075\r\n",
      "       7876658_385        cs rtrl_low   oem214  R       0:48      1 cs070\r\n",
      "       7876658_384        cs rtrl_low   oem214  R       1:18      1 cs070\r\n",
      "       7876658_383        cs rtrl_low   oem214  R       1:27      1 cs064\r\n",
      "       7876658_382        cs rtrl_low   oem214  R       1:28      1 cs064\r\n",
      "       7876658_381        cs rtrl_low   oem214  R       1:33      1 cs064\r\n",
      "       7876658_378        cs rtrl_low   oem214  R       1:34      1 cs045\r\n",
      "       7876658_379        cs rtrl_low   oem214  R       1:34      1 cs061\r\n",
      "       7876658_380        cs rtrl_low   oem214  R       1:34      1 cs064\r\n"
     ]
    }
   ],
   "source": [
    "###Get job status\n",
    "get_ipython().system('squeue -u oem214')"
   ]
  },
  {
   "cell_type": "code",
   "execution_count": null,
   "id": "2358506d",
   "metadata": {},
   "outputs": [],
   "source": [
    "configs_array, results_array, key_order, sim_dict = unpack_processed_data('../job_scripts/{}.s'.format(job_name))"
   ]
  },
  {
   "cell_type": "code",
   "execution_count": null,
   "id": "78ef4662",
   "metadata": {},
   "outputs": [],
   "source": [
    "def plot_2d_array_of_config_results(configs_array, results_array, key_order,\n",
    "                                    log_scale=False):\n",
    "    \n",
    "    fig = plt.figure()\n",
    "\n",
    "    plt.imshow(results_array.mean(-1))\n",
    "    \n",
    "    if log_scale:\n",
    "        plt.yticks(range(results_array.shape[0]), np.round(np.log10(configs_array[key_order[0]]), 3))\n",
    "        plt.xticks(range(results_array.shape[1]), np.round(np.log10(configs_array[key_order[1]]), 3))\n",
    "    else:\n",
    "        plt.yticks(range(results_array.shape[0]), np.round(configs_array[key_order[0]], 3))\n",
    "        plt.xticks(range(results_array.shape[1]), np.round(configs_array[key_order[1]], 3))\n",
    "        \n",
    "    \n",
    "    plt.ylabel(key_order[0])\n",
    "    plt.xlabel(key_order[1])\n",
    "    plt.colorbar()"
   ]
  },
  {
   "cell_type": "code",
   "execution_count": null,
   "id": "de44b399",
   "metadata": {},
   "outputs": [],
   "source": [
    "plot_2d_array_of_config_results(configs_array, results_array, key_order, log_scale=True)"
   ]
  }
 ],
 "metadata": {
  "kernelspec": {
   "display_name": "Python 3",
   "language": "python",
   "name": "python3"
  },
  "language_info": {
   "codemirror_mode": {
    "name": "ipython",
    "version": 3
   },
   "file_extension": ".py",
   "mimetype": "text/x-python",
   "name": "python",
   "nbconvert_exporter": "python",
   "pygments_lexer": "ipython3",
   "version": "3.8.5"
  }
 },
 "nbformat": 4,
 "nbformat_minor": 5
}
