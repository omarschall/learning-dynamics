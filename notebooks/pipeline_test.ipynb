{
 "cells": [
  {
   "cell_type": "code",
   "execution_count": 1,
   "id": "ddd464f7",
   "metadata": {},
   "outputs": [
    {
     "ename": "IndentationError",
     "evalue": "unexpected indent (write_main_script.py, line 4)",
     "output_type": "error",
     "traceback": [
      "Traceback \u001b[0;36m(most recent call last)\u001b[0m:\n",
      "  File \u001b[1;32m\"/ext3/miniconda3/lib/python3.8/site-packages/IPython/core/interactiveshell.py\"\u001b[0m, line \u001b[1;32m3437\u001b[0m, in \u001b[1;35mrun_code\u001b[0m\n    exec(code_obj, self.user_global_ns, self.user_ns)\n",
      "  File \u001b[1;32m\"<ipython-input-1-256d69bdab54>\"\u001b[0m, line \u001b[1;32m12\u001b[0m, in \u001b[1;35m<module>\u001b[0m\n    from wrappers import *\n",
      "\u001b[0;36m  File \u001b[0;32m\"/scratch/oem214/vanilla-rtrl/wrappers/__init__.py\"\u001b[0;36m, line \u001b[0;32m2\u001b[0;36m, in \u001b[0;35m<module>\u001b[0;36m\u001b[0m\n\u001b[0;31m    from .write_main_script import write_main_script\u001b[0m\n",
      "\u001b[0;36m  File \u001b[0;32m\"/scratch/oem214/vanilla-rtrl/wrappers/write_main_script.py\"\u001b[0;36m, line \u001b[0;32m4\u001b[0m\n\u001b[0;31m    + \"import os\\n\"\u001b[0m\n\u001b[0m    ^\u001b[0m\n\u001b[0;31mIndentationError\u001b[0m\u001b[0;31m:\u001b[0m unexpected indent\n"
     ]
    }
   ],
   "source": [
    "import sys\n",
    "sys.path.append('/scratch/oem214/vanilla-rtrl/')\n",
    "from cluster import submit_jobs\n",
    "from continual_learning import *\n",
    "from core import *\n",
    "from dynamics import *\n",
    "from functions import *\n",
    "from gen_data import *\n",
    "from learning_algorithms import *\n",
    "from optimizers import *\n",
    "from plotting import *\n",
    "from wrappers import *"
   ]
  },
  {
   "cell_type": "code",
   "execution_count": 2,
   "id": "43f5b630",
   "metadata": {},
   "outputs": [],
   "source": [
    "### --- Set up all configs --- ###\n",
    "from itertools import product\n",
    "n_seeds = 10\n",
    "macro_configs = config_generator(param_1=[1, 2],\n",
    "                                 param_2=[10, 100])\n",
    "micro_configs = tuple(product(macro_configs, list(range(n_seeds))))\n",
    "\n",
    "### --- Select particular config --- ###\n",
    "try:\n",
    "    i_job = int(os.environ['SLURM_ARRAY_TASK_ID']) - 1\n",
    "except KeyError:\n",
    "    i_job = 0\n",
    "params, i_seed = micro_configs[i_job]\n",
    "i_config = i_job//n_seeds\n",
    "\n",
    "new_random_seed_per_condition = True\n",
    "if new_random_seed_per_condition:\n",
    "    np.random.seed(i_job)\n",
    "else: #Match random seeds across conditions\n",
    "    np.random.seed(i_seed)"
   ]
  },
  {
   "cell_type": "code",
   "execution_count": 5,
   "id": "6c24e3e8",
   "metadata": {},
   "outputs": [
    {
     "data": {
      "application/javascript": [
       "IPython.notebook.save_notebook()"
      ],
      "text/plain": [
       "<IPython.core.display.Javascript object>"
      ]
     },
     "metadata": {},
     "output_type": "display_data"
    },
    {
     "name": "stdout",
     "output_type": "stream",
     "text": [
      "[NbConvertApp] Converting notebook pipeline_test.ipynb to script\n",
      "[NbConvertApp] Writing 1500 bytes to pipeline_test.py\n",
      "awk: 1: unexpected character '.'\n"
     ]
    }
   ],
   "source": [
    "###Truncate file above\n",
    "file_name = 'pipeline_test'\n",
    "get_ipython().run_cell_magic('javascript', '', 'IPython.notebook.save_notebook()')\n",
    "get_ipython().system('jupyter nbconvert --to script --no-prompt {}.ipynb'.format(file_name))\n",
    "get_ipython().system('awk \"/###Truncate/ {{exit}} {{print}}\" {}.py'.format(file_name))\n",
    "get_ipython().system('sed -i \"/###Truncate/Q\" {}.py'.format(file_name))\n",
    "get_ipython().system('mv {}.py ../cluster_main_scripts'.format(file_name))"
   ]
  },
  {
   "cell_type": "code",
   "execution_count": null,
   "id": "00ec640c",
   "metadata": {},
   "outputs": [],
   "source": [
    "###Submit job to cluster\n",
    "n_jobs = len(micro_configs)\n",
    "\n",
    "write_"
   ]
  }
 ],
 "metadata": {
  "kernelspec": {
   "display_name": "Python 3",
   "language": "python",
   "name": "python3"
  },
  "language_info": {
   "codemirror_mode": {
    "name": "ipython",
    "version": 3
   },
   "file_extension": ".py",
   "mimetype": "text/x-python",
   "name": "python",
   "nbconvert_exporter": "python",
   "pygments_lexer": "ipython3",
   "version": "3.8.5"
  }
 },
 "nbformat": 4,
 "nbformat_minor": 5
}
