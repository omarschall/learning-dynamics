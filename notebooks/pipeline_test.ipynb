{
 "cells": [
  {
   "cell_type": "code",
   "execution_count": 40,
   "id": "ddd464f7",
   "metadata": {},
   "outputs": [],
   "source": [
    "import sys, os, pickle\n",
    "sys.path.append('/scratch/oem214/vanilla-rtrl/')\n",
    "from cluster import *\n",
    "from continual_learning import *\n",
    "from core import *\n",
    "from dynamics import *\n",
    "from functions import *\n",
    "from gen_data import *\n",
    "from learning_algorithms import *\n",
    "from optimizers import *\n",
    "from plotting import *\n",
    "from wrappers import *"
   ]
  },
  {
   "cell_type": "code",
   "execution_count": 41,
   "id": "43f5b630",
   "metadata": {},
   "outputs": [],
   "source": [
    "### --- SET UP ALL CONFIGS --- ###\n",
    "from itertools import product\n",
    "n_seeds = 10\n",
    "reg_values = list(np.logspace(-4, -1, 6))\n",
    "macro_configs = config_generator(L1_reg=reg_values,\n",
    "                                 L2_reg=reg_values)\n",
    "micro_configs = tuple(product(macro_configs, list(range(n_seeds))))\n",
    "\n",
    "### --- SELECT PARTICULAR CONFIG --- ###\n",
    "try:\n",
    "    i_job = int(os.environ['SLURM_ARRAY_TASK_ID']) - 1\n",
    "except KeyError:\n",
    "    i_job = 0\n",
    "params, i_seed = micro_configs[i_job]\n",
    "i_config = i_job//n_seeds\n",
    "\n",
    "new_random_seed_per_condition = True\n",
    "if new_random_seed_per_condition:\n",
    "    np.random.seed(i_job)\n",
    "else: #Match random seeds across conditions\n",
    "    np.random.seed(i_seed)"
   ]
  },
  {
   "cell_type": "code",
   "execution_count": 42,
   "id": "90fc9188",
   "metadata": {},
   "outputs": [
    {
     "name": "stdout",
     "output_type": "stream",
     "text": [
      "Progress: 10.0% complete \n",
      "Time Elapsed: 1.0s \n",
      "Test loss: 0.08086161409409204 \n",
      "\n",
      "Progress: 20.0% complete \n",
      "Time Elapsed: 2.1s \n",
      "Test loss: 0.0041504759014000915 \n",
      "\n",
      "Progress: 30.0% complete \n",
      "Time Elapsed: 3.3s \n",
      "Test loss: 0.00697079300287311 \n",
      "\n",
      "Progress: 40.0% complete \n",
      "Time Elapsed: 4.5s \n",
      "Test loss: 0.0032705582167541648 \n",
      "\n",
      "Progress: 50.0% complete \n",
      "Time Elapsed: 5.6s \n",
      "Test loss: 0.0014173798441164173 \n",
      "\n",
      "Progress: 60.0% complete \n",
      "Time Elapsed: 6.8s \n",
      "Test loss: 0.0012870783262440072 \n",
      "\n",
      "Progress: 70.0% complete \n",
      "Time Elapsed: 8.0s \n",
      "Test loss: 0.0028694191129530295 \n",
      "\n",
      "Progress: 80.0% complete \n",
      "Time Elapsed: 9.2s \n",
      "Test loss: 0.001150593607167366 \n",
      "\n",
      "Progress: 90.0% complete \n",
      "Time Elapsed: 10.3s \n",
      "Test loss: 0.0011463499020360674 \n",
      "\n"
     ]
    }
   ],
   "source": [
    "task = Flip_Flop_Task(3, 0.05, input_magnitudes=None)\n",
    "N_train = 40000\n",
    "N_test = 5000\n",
    "checkpoint_interval = None\n",
    "sigma = 0\n",
    "\n",
    "data = task.gen_data(N_train, N_test)\n",
    "\n",
    "n_in = task.n_in\n",
    "n_hidden = 32\n",
    "n_out = task.n_out\n",
    "W_in  = np.random.normal(0, np.sqrt(1/(n_in)), (n_hidden, n_in))\n",
    "W_rec = np.random.normal(0, np.sqrt(1/n_hidden), (n_hidden, n_hidden))\n",
    "W_out = np.random.normal(0, np.sqrt(1/(n_hidden)), (n_out, n_hidden))\n",
    "\n",
    "b_rec = np.zeros(n_hidden)\n",
    "b_out = np.zeros(n_out)\n",
    "\n",
    "alpha = 1\n",
    "sigma = 0\n",
    "\n",
    "rnn = RNN(W_in, W_rec, W_out, b_rec, b_out,\n",
    "          activation=tanh,\n",
    "          alpha=alpha,\n",
    "          output=identity,\n",
    "          loss=mean_squared_error)\n",
    "\n",
    "learn_alg = RFLO(rnn, alpha=alpha, L2_reg=params['L2_reg'], L1_reg=params['L1_reg'])\n",
    "optimizer = SGD_Momentum(lr=0.01, mu=0.6)\n",
    "\n",
    "monitors = []\n",
    "\n",
    "sim = Simulation(rnn)\n",
    "sim.run(data, learn_alg=learn_alg, optimizer=optimizer,\n",
    "        sigma=sigma,\n",
    "        monitors=monitors,\n",
    "        verbose=True,\n",
    "        report_accuracy=False,\n",
    "        report_loss=True,\n",
    "        checkpoint_interval=checkpoint_interval)"
   ]
  },
  {
   "cell_type": "code",
   "execution_count": 43,
   "id": "af9596b3",
   "metadata": {},
   "outputs": [],
   "source": [
    "test_sim = Simulation(rnn)\n",
    "test_sim.run(data, mode='test', monitors=['rnn.loss_'], verbose=False)\n",
    "processed_data = np.mean(test_sim.mons['rnn.loss_'])"
   ]
  },
  {
   "cell_type": "code",
   "execution_count": 12,
   "id": "fbb05651",
   "metadata": {},
   "outputs": [],
   "source": [
    "### --- SAVE RESULTS -- ###\n",
    "result = {'sim': sim, 'i_seed': i_seed, 'task': task,\n",
    "          'config': params, 'i_config': i_config, 'i_job': i_job}\n",
    "try:\n",
    "    result['processed_data'] = processed_data\n",
    "except NameError:\n",
    "    pass\n",
    "    \n",
    "try:\n",
    "    save_dir = os.environ['SAVEDIR']\n",
    "    if not os.path.exists(save_dir):\n",
    "        os.mkdir(save_dir)\n",
    "    save_path = os.path.join(save_dir, 'result_{}'.format(i_job))\n",
    "\n",
    "    with open(save_path, 'wb') as f:\n",
    "        pickle.dump(result, f)\n",
    "except KeyError:\n",
    "    pass"
   ]
  },
  {
   "cell_type": "code",
   "execution_count": null,
   "id": "6c24e3e8",
   "metadata": {},
   "outputs": [],
   "source": [
    "###Truncate file above\n",
    "file_name = 'pipeline_test'\n",
    "job_name = 'lab_meeting_demo'\n",
    "get_ipython().run_cell_magic('javascript', '', 'IPython.notebook.save_notebook()')\n",
    "get_ipython().system('jupyter nbconvert --to script --no-prompt {}.ipynb'.format(file_name))\n",
    "get_ipython().system('awk \"/###Truncate/ {{exit}} {{print}}\" {}.py'.format(file_name))\n",
    "get_ipython().system('sed -i \"/###Truncate/Q\" {}.py'.format(file_name))\n",
    "get_ipython().system('mv {}.py ../cluster_main_scripts/{}.py'.format(file_name, job_name))"
   ]
  },
  {
   "cell_type": "code",
   "execution_count": 14,
   "id": "db551d25",
   "metadata": {},
   "outputs": [
    {
     "name": "stdout",
     "output_type": "stream",
     "text": [
      "sending incremental file list\n",
      "vanilla-rtrl/.idea/\n",
      "vanilla-rtrl/.idea/workspace.xml\n",
      "vanilla-rtrl/cluster/\n",
      "vanilla-rtrl/cluster/start_jupyter_notebook.py\n",
      "vanilla-rtrl/cluster/__pycache__/\n",
      "vanilla-rtrl/cluster/__pycache__/start_jupyter_notebook.cpython-37.pyc\n",
      "vanilla-rtrl/cluster/__pycache__/start_jupyter_notebook.cpython-38.pyc\n",
      "\n",
      "sent 52,421 bytes  received 134 bytes  105,110.00 bytes/sec\n",
      "total size is 1,211,666  speedup is 23.06\n",
      "Submitted batch job 7636795\n"
     ]
    }
   ],
   "source": [
    "###Submit job to cluster\n",
    "n_jobs = len(micro_configs)\n",
    "write_job_file(job_name, py_file_name='{}.py'.format(job_name))\n",
    "submit_job('../job_scripts/{}.s'.format(job_name, n_jobs)"
   ]
  },
  {
   "cell_type": "code",
   "execution_count": 21,
   "id": "20547c0a",
   "metadata": {
    "scrolled": true
   },
   "outputs": [
    {
     "name": "stdout",
     "output_type": "stream",
     "text": [
      "             JOBID PARTITION     NAME     USER ST       TIME  NODES NODELIST(REASON)\r\n",
      "           7636767        cm  jupyter   oem214  R      11:30      1 cm27\r\n"
     ]
    }
   ],
   "source": [
    "###Get job status\n",
    "get_ipython().system('squeue -u oem214')"
   ]
  },
  {
   "cell_type": "code",
   "execution_count": 22,
   "id": "2358506d",
   "metadata": {},
   "outputs": [],
   "source": [
    "configs_array, results_array, key_order, sim_dict = unpack_processed_data('../job_scripts/{}.s'.format(job_name))"
   ]
  },
  {
   "cell_type": "code",
   "execution_count": 38,
   "id": "78ef4662",
   "metadata": {},
   "outputs": [],
   "source": [
    "def plot_2d_array_of_config_results(configs_array, results_array, key_order,\n",
    "                                    log_scale=False):\n",
    "    \n",
    "    fig = plt.figure()\n",
    "\n",
    "    plt.imshow(results_array.mean(-1))\n",
    "    \n",
    "    if log_scale:\n",
    "        plt.yticks(range(results_array.shape[0]), np.round(np.log10(configs_array[key_order[0]]), 3))\n",
    "        plt.xticks(range(results_array.shape[1]), np.round(np.log10(configs_array[key_order[1]]), 3))\n",
    "    else:\n",
    "        plt.yticks(range(results_array.shape[0]), np.round(configs_array[key_order[0]], 3))\n",
    "        plt.xticks(range(results_array.shape[1]), np.round(configs_array[key_order[1]], 3))\n",
    "        \n",
    "    \n",
    "    plt.ylabel(key_order[0])\n",
    "    plt.xlabel(key_order[1])\n",
    "    plt.colorbar()"
   ]
  },
  {
   "cell_type": "code",
   "execution_count": 39,
   "id": "de44b399",
   "metadata": {},
   "outputs": [
    {
     "data": {
      "image/png": "[encoded data removed]",
      "text/plain": [
       "<Figure size 432x288 with 2 Axes>"
      ]
     },
     "metadata": {
      "needs_background": "light"
     },
     "output_type": "display_data"
    }
   ],
   "source": [
    "plot_2d_array_of_config_results(configs_array, results_array, key_order, log_scale=True)"
   ]
  }
 ],
 "metadata": {
  "kernelspec": {
   "display_name": "Python 3",
   "language": "python",
   "name": "python3"
  },
  "language_info": {
   "codemirror_mode": {
    "name": "ipython",
    "version": 3
   },
   "file_extension": ".py",
   "mimetype": "text/x-python",
   "name": "python",
   "nbconvert_exporter": "python",
   "pygments_lexer": "ipython3",
   "version": "3.8.5"
  }
 },
 "nbformat": 4,
 "nbformat_minor": 5
}
