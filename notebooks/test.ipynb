{
 "cells": [
  {
   "cell_type": "code",
   "execution_count": 1,
   "id": "86609ceb",
   "metadata": {},
   "outputs": [],
   "source": [
    "import sys, os, pickle\n",
    "sys.path.append('/scratch/oem214/vanilla-rtrl/')\n",
    "from cluster import *\n",
    "from continual_learning import *\n",
    "from core import *\n",
    "from dynamics import *\n",
    "from functions import *\n",
    "from gen_data import *\n",
    "from learning_algorithms import *\n",
    "from optimizers import *\n",
    "from plotting import *\n",
    "from wrappers import *"
   ]
  },
  {
   "cell_type": "code",
   "execution_count": null,
   "id": "862a2567",
   "metadata": {},
   "outputs": [],
   "source": [
    "import multiprocessing as mp\n",
    "print(mp.cpu_count())"
   ]
  },
  {
   "cell_type": "code",
   "execution_count": 6,
   "id": "7da83028",
   "metadata": {},
   "outputs": [
    {
     "data": {
      "application/javascript": [
       "IPython.notebook.save_notebook()"
      ],
      "text/plain": [
       "<IPython.core.display.Javascript object>"
      ]
     },
     "metadata": {},
     "output_type": "display_data"
    },
    {
     "name": "stdout",
     "output_type": "stream",
     "text": [
      "[NbConvertApp] Converting notebook test.ipynb to script\n",
      "[NbConvertApp] Writing 1098 bytes to test.py\n",
      "awk: 1: unexpected character '.'\n"
     ]
    }
   ],
   "source": [
    "###Truncate file above\n",
    "file_name = 'test'\n",
    "job_name = 'mp_test'\n",
    "get_ipython().run_cell_magic('javascript', '', 'IPython.notebook.save_notebook()')\n",
    "get_ipython().system('jupyter nbconvert --to script --no-prompt {}.ipynb'.format(file_name))\n",
    "get_ipython().system('awk \"/###Truncate/ {{exit}} {{print}}\" {}.py'.format(file_name))\n",
    "get_ipython().system('sed -i \"/###Truncate/Q\" {}.py'.format(file_name))\n",
    "get_ipython().system('mv {}.py ../cluster_main_scripts/{}.py'.format(file_name, job_name))"
   ]
  },
  {
   "cell_type": "code",
   "execution_count": 7,
   "id": "c9cb406d",
   "metadata": {},
   "outputs": [
    {
     "name": "stdout",
     "output_type": "stream",
     "text": [
      "rm: cannot remove '/scratch/oem214/learning-dynamics/results/mp_test/result_*': No such file or directory\n",
      "sending incremental file list\n",
      "\n",
      "sent 10,997 bytes  received 45 bytes  22,084.00 bytes/sec\n",
      "total size is 1,252,308  speedup is 113.41\n"
     ]
    }
   ],
   "source": [
    "###Submit job to cluster\n",
    "job_name = 'mp_test'\n",
    "n_jobs = 1\n",
    "write_job_file(job_name, py_file_name='{}.py'.format(job_name))\n",
    "job_id_1 = submit_job('../job_scripts/{}.s'.format(job_name), n_jobs)"
   ]
  }
 ],
 "metadata": {
  "kernelspec": {
   "display_name": "Python 3",
   "language": "python",
   "name": "python3"
  },
  "language_info": {
   "codemirror_mode": {
    "name": "ipython",
    "version": 3
   },
   "file_extension": ".py",
   "mimetype": "text/x-python",
   "name": "python",
   "nbconvert_exporter": "python",
   "pygments_lexer": "ipython3",
   "version": "3.8.5"
  }
 },
 "nbformat": 4,
 "nbformat_minor": 5
}
