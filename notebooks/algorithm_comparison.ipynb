{
 "cells": [
  {
   "cell_type": "code",
   "execution_count": 3,
   "id": "63082cf9",
   "metadata": {},
   "outputs": [],
   "source": [
    "import sys, os, pickle\n",
    "sys.path.append('/scratch/oem214/vanilla-rtrl/')\n",
    "from cluster import *\n",
    "from continual_learning import *\n",
    "from core import *\n",
    "from dynamics import *\n",
    "from functions import *\n",
    "from gen_data import * \n",
    "from learning_algorithms import *\n",
    "from optimizers import *\n",
    "from plotting import *\n",
    "from wrappers import *\n",
    "import matplotlib.pyplot as plt"
   ]
  },
  {
   "cell_type": "code",
   "execution_count": null,
   "id": "ad2e0256",
   "metadata": {},
   "outputs": [],
   "source": [
    "### --- SET UP ALL CONFIGS --- ###\n",
    "from itertools import product\n",
    "n_seeds = 5\n",
    "macro_configs = config_generator(learn_alg=['RFLO', 'DNI', 'BPTT'])\n",
    "micro_configs = tuple(product(macro_configs, list(range(n_seeds))))"
   ]
  },
  {
   "cell_type": "code",
   "execution_count": null,
   "id": "1938d977",
   "metadata": {},
   "outputs": [],
   "source": [
    "root_name = 'alg_seed_comp'\n",
    "file_names = []\n",
    "for params, i_seed in micro_configs:\n",
    "    \n",
    "    np.random.seed(i_seed)\n",
    "\n",
    "    task = Flip_Flop_Task(3, 0.05, input_magnitudes=None)\n",
    "    N_train = 200000\n",
    "    N_test = 10000\n",
    "    checkpoint_interval = 1000\n",
    "    sigma = 0\n",
    "    data = task.gen_data(N_train, N_test)\n",
    "\n",
    "    n_in = task.n_in\n",
    "    n_hidden = 32\n",
    "    n_out = task.n_out\n",
    "\n",
    "    W_in  = np.random.normal(0, np.sqrt(1/(n_in)), (n_hidden, n_in))\n",
    "    W_rec = np.random.normal(0, np.sqrt(1/n_hidden), (n_hidden, n_hidden))\n",
    "    W_out = np.random.normal(0, np.sqrt(1/(n_hidden)), (n_out, n_hidden))\n",
    "\n",
    "    b_rec = np.zeros(n_hidden)\n",
    "    b_out = np.zeros(n_out)\n",
    "\n",
    "    alpha = 1\n",
    "    sigma = 0\n",
    "    \n",
    "    rnn = RNN(W_in, W_rec, W_out, b_rec, b_out,\n",
    "              activation=tanh,\n",
    "              alpha=alpha,\n",
    "              output=identity,\n",
    "              loss=mean_squared_error)\n",
    "\n",
    "    if params['learn_alg'] == 'BPTT':\n",
    "        learn_alg = Efficient_BPTT(rnn, T_truncation=6, L2_reg=0.0001, L1_reg=0.0001)\n",
    "    if params['learn_alg'] == 'DNI':\n",
    "        sg_optimizer = Stochastic_Gradient_Descent(lr=0.003)\n",
    "        learn_alg = DNI(rnn, sg_optimizer, L2_reg=0.0001, L1_reg=0.0001)\n",
    "    if params['learn_alg'] == 'RFLO':\n",
    "        learn_alg = RFLO(rnn, alpha=alpha, L2_reg=0.0001, L1_reg=0.0001)\n",
    "    optimizer = SGD_Momentum(lr=0.003, mu=0.6)\n",
    "\n",
    "    monitors = []\n",
    "\n",
    "    sim = Simulation(rnn)\n",
    "    sim.run(data, learn_alg=learn_alg, optimizer=optimizer,\n",
    "            sigma=sigma,\n",
    "            monitors=monitors,\n",
    "            verbose=False,\n",
    "            report_accuracy=False,\n",
    "            report_loss=True,\n",
    "            checkpoint_optimizer=True,\n",
    "            checkpoint_interval=checkpoint_interval)\n",
    "    \n",
    "    file_name = root_name + '_seed={}'.format(i_seed)\n",
    "    for key in params.keys():\n",
    "        file_name += '_{}={}'.format(key, str(params[key]).replace('.', ','))\n",
    "        \n",
    "    file_names.append(file_name)\n",
    "    \n",
    "    print('finish simulation: {}, {}'.format(params['learn_alg'], i_seed))\n",
    "    if np.isnan(rnn.W_rec[0, 0]):\n",
    "        print('MISTAKES WERE MADE')\n",
    "        break\n",
    "    \n",
    "    \n",
    "    ### --- SAVE RUN --- ###\n",
    "    with open(os.path.join('saved_runs/', file_name), 'wb') as f:\n",
    "        saved_run = {'sim': sim, 'task': task}\n",
    "        pickle.dump(saved_run, f)"
   ]
  },
  {
   "cell_type": "code",
   "execution_count": null,
   "id": "85533c6f",
   "metadata": {},
   "outputs": [],
   "source": [
    "root_name = 'alg_seed_comp'\n",
    "cross_topological_analysis(root_name, ppn=16, FP_find_FPs=True, test_save_data=False, test_N=1000,\n",
    "                           n_checkpoints_per_job_=20,\n",
    "                           compare_aligned_graph=True, compare_node_diff=True,\n",
    "                           compare_weight_change_alignment=True, compare_n_comp_window=1,\n",
    "                           compare_node_drift=True, compare_SVCCA=False, compare_align_checkpoints=True,\n",
    "                           compare_CKA=True,\n",
    "                           compare_PC1=False, compare_PC2=True, compare_PC3=False)"
   ]
  },
  {
   "cell_type": "code",
   "execution_count": null,
   "id": "0d23a8f4",
   "metadata": {},
   "outputs": [],
   "source": [
    "saved_run_root_name = 'alg_comp'\n",
    "project_name='learning-dynamics'\n",
    "module_name='vanilla-rtrl'\n",
    "username='oem214'\n",
    "ppn=16\n",
    "n_checkpoints_per_job_=20\n",
    "\n",
    "analysis_job_ids = []\n",
    "\n",
    "### --- Identify all saved runs fitting root name --- ###\n",
    "\n",
    "saved_run_names = [saved_run for saved_run in os.listdir('saved_runs')\n",
    "                   if saved_run_root_name in saved_run]\n",
    "saved_run_names = sorted(saved_run_names)\n",
    "\n",
    "### --- Define relevant paths --- ###\n",
    "\n",
    "project_dir = os.path.join('/scratch/{}/'.format(username), project_name)\n",
    "module_dir = os.path.join('/scratch/{}/'.format(username), module_name)\n",
    "cluster_main_dir = os.path.join(project_dir, 'cluster_main_scripts/')\n",
    "args_dir = os.path.join(project_dir, 'args')\n",
    "\n",
    "analyze_main_path = os.path.join(module_dir, 'analyze_main.py')\n",
    "args_path = os.path.join(args_dir, saved_run_root_name)\n",
    "\n",
    "### -- Submit compare job script when done\n",
    "\n",
    "compare_job_name = 'cross_compare_{}'.format(saved_run_root_name)\n",
    "compare_main_path = os.path.join(module_dir, 'cross_compare_main.py')\n",
    "\n",
    "analysis_id_dependency = ':'.join([str(id_) for id_ in analysis_job_ids])\n",
    "\n",
    "write_job_file(compare_job_name, py_file_name='cross_compare_main.py',\n",
    "               py_args='--name {}'.format(saved_run_root_name), n_hours=8)\n",
    "get_ipython().system('cp {} {}'.format(compare_main_path, cluster_main_dir))\n",
    "submit_job('../job_scripts/{}.s'.format(compare_job_name),\n",
    "           n_array=1,\n",
    "           py_file_name='cross_compare_main.py',\n",
    "           id_dependency=None)"
   ]
  },
  {
   "cell_type": "code",
   "execution_count": null,
   "id": "db13ba2e",
   "metadata": {},
   "outputs": [],
   "source": [
    "root_name = 'alg_phi_hyperparam'\n",
    "cross_topological_analysis(root_name, n_checkpoints_per_job_=10, ppn=16)"
   ]
  },
  {
   "cell_type": "code",
   "execution_count": null,
   "id": "115e9af6",
   "metadata": {},
   "outputs": [],
   "source": [
    "!squeue -u oem214"
   ]
  },
  {
   "cell_type": "code",
   "execution_count": null,
   "id": "abc45e0b",
   "metadata": {},
   "outputs": [],
   "source": [
    "!scancel 10445819"
   ]
  },
  {
   "cell_type": "code",
   "execution_count": null,
   "id": "8b8aba11",
   "metadata": {},
   "outputs": [],
   "source": [
    "### --- OPEN RUN --- ###\n",
    "file_name = 'algphi_again_seed=1_learn_alg=DNI_phi=relu'\n",
    "with open(os.path.join('saved_runs/', file_name), 'rb') as f:\n",
    "    saved_run = pickle.load(f)\n",
    "    sim = saved_run['sim']\n",
    "    task =saved_run['task']"
   ]
  },
  {
   "cell_type": "code",
   "execution_count": null,
   "id": "d7798b9d",
   "metadata": {},
   "outputs": [],
   "source": [
    "np.isnan(rnn.W_rec[0, 0])"
   ]
  },
  {
   "cell_type": "code",
   "execution_count": null,
   "id": "6ddba6d5",
   "metadata": {},
   "outputs": [],
   "source": [
    "root_name = 'alg_cheap_comp'\n",
    "with open ('../results/cross_compare_{}/result_0'.format(root_name), 'rb') as f:\n",
    "    result = pickle.load(f)"
   ]
  },
  {
   "cell_type": "code",
   "execution_count": 24,
   "id": "76959e66",
   "metadata": {},
   "outputs": [],
   "source": [
    "#from functools import partial\n",
    "#get_checkpoint_W_rec_dim_ = partial(get_checkpoint_W_rec_dim, W_init=)\n",
    "\n",
    "root_name = 'alg_cheap_comp'\n",
    "signal_dicts = unpack_cross_compare_result(root_name, checkpoint_stats={'W_PC': get_checkpoint_W_rec_dim,\n",
    "                                                                        'A_PC': get_checkpoint_participation_coefficient,\n",
    "                                                                        'W_SR': get_checkpoint_spectral_radius,\n",
    "                                                                        'W_mean': get_checkpoint_weight_mean,\n",
    "                                                                        'W_std': get_checkpoint_weight_std,\n",
    "                                                                        'loss': get_checkpoint_loss,\n",
    "                                                                        'W_2eig': get_checkpoint_2nd_eigenvalue,\n",
    "                                                                        'W_3eig': get_checkpoint_3nd_eigenvalue})"
   ]
  },
  {
   "cell_type": "code",
   "execution_count": 4,
   "id": "dee9a321",
   "metadata": {},
   "outputs": [],
   "source": [
    "root_name = 'alg_cheap_comp'\n",
    "results_dir = '/scratch/oem214/learning-dynamics/results/'\n",
    "analysis_jobs = [j for j in os.listdir(results_dir) if root_name in j and 'analyze' in j]\n",
    "checkpoints_dicts = {}\n",
    "for job_name in analysis_jobs:\n",
    "    indices, checkpoints = unpack_analysis_results(os.path.join(results_dir, job_name))\n",
    "    checkpoints_dicts[job_name] = {'indices': indices,\n",
    "                                   'checkpoints': checkpoints}"
   ]
  },
  {
   "cell_type": "code",
   "execution_count": 5,
   "id": "e76e60f9",
   "metadata": {},
   "outputs": [
    {
     "data": {
      "text/plain": [
       "dict_keys(['analyze_alg_cheap_comp_seed=1_g=1_learn_alg=RFLO', 'analyze_alg_cheap_comp_seed=3_g=1_learn_alg=DNI', 'analyze_alg_cheap_comp_seed=0_g=1_learn_alg=RFLO', 'analyze_alg_cheap_comp_seed=2_g=1_learn_alg=DNI', 'analyze_alg_cheap_comp_seed=4_g=1_learn_alg=BPTT', 'analyze_alg_cheap_comp_seed=3_g=0,3_learn_alg=DNI', 'analyze_alg_cheap_comp_seed=0_g=1_learn_alg=DNI', 'analyze_alg_cheap_comp_seed=1_g=0,3_learn_alg=BPTT', 'analyze_alg_cheap_comp_seed=0_g=1_learn_alg=BPTT', 'analyze_alg_cheap_comp_seed=0_g=0,3_learn_alg=RFLO', 'analyze_alg_cheap_comp_seed=2_g=0,3_learn_alg=DNI', 'analyze_alg_cheap_comp_seed=1_g=0,3_learn_alg=RFLO', 'analyze_alg_cheap_comp_seed=2_g=0,3_learn_alg=BPTT', 'analyze_alg_cheap_comp_seed=3_g=0,3_learn_alg=BPTT', 'analyze_alg_cheap_comp_seed=3_g=1_learn_alg=BPTT', 'analyze_alg_cheap_comp_seed=2_g=1_learn_alg=BPTT', 'analyze_alg_cheap_comp_seed=4_g=0,3_learn_alg=DNI', 'analyze_alg_cheap_comp_seed=1_g=1_learn_alg=BPTT', 'analyze_alg_cheap_comp_seed=4_g=0,3_learn_alg=RFLO', 'analyze_alg_cheap_comp_seed=1_g=0,3_learn_alg=DNI', 'analyze_alg_cheap_comp_seed=2_g=0,3_learn_alg=RFLO', 'analyze_alg_cheap_comp_seed=4_g=1_learn_alg=DNI', 'analyze_alg_cheap_comp_seed=2_g=1_learn_alg=RFLO', 'analyze_alg_cheap_comp_seed=4_g=0,3_learn_alg=BPTT', 'analyze_alg_cheap_comp_seed=4_g=1_learn_alg=RFLO', 'analyze_alg_cheap_comp_seed=3_g=1_learn_alg=RFLO', 'analyze_alg_cheap_comp_seed=3_g=0,3_learn_alg=RFLO', 'analyze_alg_cheap_comp_seed=1_g=1_learn_alg=DNI', 'analyze_alg_cheap_comp_seed=0_g=0,3_learn_alg=DNI', 'analyze_alg_cheap_comp_seed=0_g=0,3_learn_alg=BPTT'])"
      ]
     },
     "execution_count": 5,
     "metadata": {},
     "output_type": "execute_result"
    }
   ],
   "source": [
    "checkpoints_dicts.keys()"
   ]
  },
  {
   "cell_type": "code",
   "execution_count": 1,
   "id": "b030a7ad",
   "metadata": {},
   "outputs": [
    {
     "ename": "NameError",
     "evalue": "name 'plt' is not defined",
     "output_type": "error",
     "traceback": [
      "\u001b[0;31m---------------------------------------------------------------------------\u001b[0m",
      "\u001b[0;31mNameError\u001b[0m                                 Traceback (most recent call last)",
      "\u001b[0;32m<ipython-input-1-2560ac8ce61d>\u001b[0m in \u001b[0;36m<module>\u001b[0;34m\u001b[0m\n\u001b[0;32m----> 1\u001b[0;31m \u001b[0mplt\u001b[0m\u001b[0;34m.\u001b[0m\u001b[0mfigure\u001b[0m\u001b[0;34m(\u001b[0m\u001b[0mfigsize\u001b[0m\u001b[0;34m=\u001b[0m\u001b[0;34m(\u001b[0m\u001b[0;36m6\u001b[0m\u001b[0;34m,\u001b[0m \u001b[0;36m6\u001b[0m\u001b[0;34m)\u001b[0m\u001b[0;34m)\u001b[0m\u001b[0;34m\u001b[0m\u001b[0;34m\u001b[0m\u001b[0m\n\u001b[0m\u001b[1;32m      2\u001b[0m \u001b[0mplt\u001b[0m\u001b[0;34m.\u001b[0m\u001b[0mxlim\u001b[0m\u001b[0;34m(\u001b[0m\u001b[0;34m[\u001b[0m\u001b[0;34m-\u001b[0m\u001b[0;36m1.5\u001b[0m\u001b[0;34m,\u001b[0m \u001b[0;36m1.5\u001b[0m\u001b[0;34m]\u001b[0m\u001b[0;34m)\u001b[0m\u001b[0;34m\u001b[0m\u001b[0;34m\u001b[0m\u001b[0m\n\u001b[1;32m      3\u001b[0m \u001b[0mplt\u001b[0m\u001b[0;34m.\u001b[0m\u001b[0mylim\u001b[0m\u001b[0;34m(\u001b[0m\u001b[0;34m[\u001b[0m\u001b[0;34m-\u001b[0m\u001b[0;36m1.5\u001b[0m\u001b[0;34m,\u001b[0m \u001b[0;36m1.5\u001b[0m\u001b[0;34m]\u001b[0m\u001b[0;34m)\u001b[0m\u001b[0;34m\u001b[0m\u001b[0;34m\u001b[0m\u001b[0m\n\u001b[1;32m      4\u001b[0m \u001b[0mtheta\u001b[0m \u001b[0;34m=\u001b[0m \u001b[0mnp\u001b[0m\u001b[0;34m.\u001b[0m\u001b[0marange\u001b[0m\u001b[0;34m(\u001b[0m\u001b[0;36m0\u001b[0m\u001b[0;34m,\u001b[0m \u001b[0;36m2\u001b[0m \u001b[0;34m*\u001b[0m \u001b[0mnp\u001b[0m\u001b[0;34m.\u001b[0m\u001b[0mpi\u001b[0m\u001b[0;34m,\u001b[0m \u001b[0;36m0.01\u001b[0m\u001b[0;34m)\u001b[0m\u001b[0;34m\u001b[0m\u001b[0;34m\u001b[0m\u001b[0m\n\u001b[1;32m      5\u001b[0m \u001b[0mplt\u001b[0m\u001b[0;34m.\u001b[0m\u001b[0mplot\u001b[0m\u001b[0;34m(\u001b[0m\u001b[0mnp\u001b[0m\u001b[0;34m.\u001b[0m\u001b[0mcos\u001b[0m\u001b[0;34m(\u001b[0m\u001b[0mtheta\u001b[0m\u001b[0;34m)\u001b[0m\u001b[0;34m,\u001b[0m \u001b[0mnp\u001b[0m\u001b[0;34m.\u001b[0m\u001b[0msin\u001b[0m\u001b[0;34m(\u001b[0m\u001b[0mtheta\u001b[0m\u001b[0;34m)\u001b[0m\u001b[0;34m,\u001b[0m \u001b[0mcolor\u001b[0m\u001b[0;34m=\u001b[0m\u001b[0;34m'k'\u001b[0m\u001b[0;34m,\u001b[0m \u001b[0mlinestyle\u001b[0m\u001b[0;34m=\u001b[0m\u001b[0;34m'--'\u001b[0m\u001b[0;34m)\u001b[0m\u001b[0;34m\u001b[0m\u001b[0;34m\u001b[0m\u001b[0m\n",
      "\u001b[0;31mNameError\u001b[0m: name 'plt' is not defined"
     ]
    }
   ],
   "source": [
    "plt.figure(figsize=(6, 6))\n",
    "plt.xlim([-1.5, 1.5])\n",
    "plt.ylim([-1.5, 1.5])\n",
    "theta = np.arange(0, 2 * np.pi, 0.01)\n",
    "plt.plot(np.cos(theta), np.sin(theta), color='k', linestyle='--')\n",
    "n_eig = 32\n",
    "job_name = analysis_jobs[16]\n",
    "indices = checkpoints_dicts[job_name]['indices']\n",
    "checkpoints = checkpoints_dicts[job_name]['checkpoints']\n",
    "n_checkpoints = len(indices)\n",
    "\n",
    "topological_distance = signal_dicts[job_name]['aligned_graph_distances']\n",
    "i_phase = np.amin(np.where(np.logical_and(topological_distance > 0,\n",
    "                                          np.roll(topological_distance, -1) > 0,\n",
    "                                          np.roll(topological_distance, -2) > 0))[0])\n",
    "\n",
    "for i_index, i_checkpoint in enumerate(indices):\n",
    "    W = checkpoints['checkpoint_{}'.format(i_checkpoint)]['rnn'].W_rec\n",
    "    eigs, vecs = np.linalg.eig(W)\n",
    "    eigs = eigs[np.argsort(np.abs(eigs))[::-1]]\n",
    "    col = color_fader('C0', 'C2', i_index / n_checkpoints)\n",
    "    plt.plot(np.real(eigs)[:n_eig], np.imag(eigs)[:n_eig], '.', color=col, alpha=0.4)\n",
    "    \n",
    "    if i_index == 0:\n",
    "        plt.plot(np.real(eigs)[:n_eig], np.imag(eigs)[:n_eig], '.', color='k')\n",
    "        \n",
    "    if i_index == i_phase:\n",
    "        plt.plot(np.real(eigs)[:n_eig], np.imag(eigs)[:n_eig], 'x', markersize=10, color='C3')"
   ]
  },
  {
   "cell_type": "code",
   "execution_count": 15,
   "id": "4aa66b0d",
   "metadata": {},
   "outputs": [
    {
     "data": {
      "text/plain": [
       "['analyze_alg_cheap_comp_seed=1_g=1_learn_alg=RFLO',\n",
       " 'analyze_alg_cheap_comp_seed=3_g=1_learn_alg=DNI',\n",
       " 'analyze_alg_cheap_comp_seed=0_g=1_learn_alg=RFLO',\n",
       " 'analyze_alg_cheap_comp_seed=2_g=1_learn_alg=DNI',\n",
       " 'analyze_alg_cheap_comp_seed=4_g=1_learn_alg=BPTT',\n",
       " 'analyze_alg_cheap_comp_seed=3_g=0,3_learn_alg=DNI',\n",
       " 'analyze_alg_cheap_comp_seed=0_g=1_learn_alg=DNI',\n",
       " 'analyze_alg_cheap_comp_seed=1_g=0,3_learn_alg=BPTT',\n",
       " 'analyze_alg_cheap_comp_seed=0_g=1_learn_alg=BPTT',\n",
       " 'analyze_alg_cheap_comp_seed=0_g=0,3_learn_alg=RFLO',\n",
       " 'analyze_alg_cheap_comp_seed=2_g=0,3_learn_alg=DNI',\n",
       " 'analyze_alg_cheap_comp_seed=1_g=0,3_learn_alg=RFLO',\n",
       " 'analyze_alg_cheap_comp_seed=2_g=0,3_learn_alg=BPTT',\n",
       " 'analyze_alg_cheap_comp_seed=3_g=0,3_learn_alg=BPTT',\n",
       " 'analyze_alg_cheap_comp_seed=3_g=1_learn_alg=BPTT',\n",
       " 'analyze_alg_cheap_comp_seed=2_g=1_learn_alg=BPTT',\n",
       " 'analyze_alg_cheap_comp_seed=4_g=0,3_learn_alg=DNI',\n",
       " 'analyze_alg_cheap_comp_seed=1_g=1_learn_alg=BPTT',\n",
       " 'analyze_alg_cheap_comp_seed=4_g=0,3_learn_alg=RFLO',\n",
       " 'analyze_alg_cheap_comp_seed=1_g=0,3_learn_alg=DNI',\n",
       " 'analyze_alg_cheap_comp_seed=2_g=0,3_learn_alg=RFLO',\n",
       " 'analyze_alg_cheap_comp_seed=4_g=1_learn_alg=DNI',\n",
       " 'analyze_alg_cheap_comp_seed=2_g=1_learn_alg=RFLO',\n",
       " 'analyze_alg_cheap_comp_seed=4_g=0,3_learn_alg=BPTT',\n",
       " 'analyze_alg_cheap_comp_seed=4_g=1_learn_alg=RFLO',\n",
       " 'analyze_alg_cheap_comp_seed=3_g=1_learn_alg=RFLO',\n",
       " 'analyze_alg_cheap_comp_seed=3_g=0,3_learn_alg=RFLO',\n",
       " 'analyze_alg_cheap_comp_seed=1_g=1_learn_alg=DNI',\n",
       " 'analyze_alg_cheap_comp_seed=0_g=0,3_learn_alg=DNI',\n",
       " 'analyze_alg_cheap_comp_seed=0_g=0,3_learn_alg=BPTT']"
      ]
     },
     "execution_count": 15,
     "metadata": {},
     "output_type": "execute_result"
    }
   ],
   "source": [
    "analysis_jobs"
   ]
  },
  {
   "cell_type": "code",
   "execution_count": null,
   "id": "d2ca3f3b",
   "metadata": {},
   "outputs": [],
   "source": [
    "fig, ax = plt.subplots(3, 2, figsize=(12, 16))\n",
    "n_seeds = 5\n",
    "\n",
    "gs = [0.3, 1]\n",
    "learn_algs = ['RFLO', 'DNI', 'BPTT']\n",
    "for i_x in range(2):\n",
    "    for i_y in range(3):\n",
    "        for i_seed in range(n_seeds):"
   ]
  },
  {
   "cell_type": "code",
   "execution_count": null,
   "id": "780341a1",
   "metadata": {},
   "outputs": [],
   "source": [
    "analysis_jobs"
   ]
  },
  {
   "cell_type": "code",
   "execution_count": null,
   "id": "e8a0b41d",
   "metadata": {},
   "outputs": [],
   "source": []
  },
  {
   "cell_type": "code",
   "execution_count": null,
   "id": "ad57c518",
   "metadata": {},
   "outputs": [],
   "source": [
    "signal_dicts['analyze_rflo_postfix_dense10_seed=1']['rec_weight_distances']"
   ]
  },
  {
   "cell_type": "code",
   "execution_count": null,
   "id": "666870f2",
   "metadata": {},
   "outputs": [],
   "source": [
    "[[signal_dicts[k][k_].shape for k_ in signal_dicts[k].keys()] for k in signal_dicts.keys()]"
   ]
  },
  {
   "cell_type": "code",
   "execution_count": null,
   "id": "5bd7bc81",
   "metadata": {},
   "outputs": [],
   "source": [
    "signal_dicts_list[0]['A_PC']"
   ]
  },
  {
   "cell_type": "code",
   "execution_count": null,
   "id": "436f5883",
   "metadata": {},
   "outputs": [],
   "source": [
    "signal_dicts.keys()"
   ]
  },
  {
   "cell_type": "code",
   "execution_count": null,
   "id": "0a522def",
   "metadata": {},
   "outputs": [],
   "source": [
    "signal_dicts_list = [v for v in signal_dicts.values()]\n",
    "#signal_dicts_list = [signal_dicts[k] for k in signal_dicts.keys() if ('0,01' in k and '32' in k)]\n",
    "plot_multiple_signals(signal_dicts_list, key_restriction=None, alpha=0.2)"
   ]
  },
  {
   "cell_type": "code",
   "execution_count": null,
   "id": "93657579",
   "metadata": {},
   "outputs": [],
   "source": [
    "fig, ax = plt.subplots(3, 2, figsize=(12, 16))\n",
    "n_seeds = 5\n",
    "\n",
    "gs = [0.3, 1]\n",
    "learn_algs = ['RFLO', 'DNI', 'BPTT']\n",
    "for i_x in range(2):\n",
    "    for i_y in range(3):\n",
    "        for i_seed in range(n_seeds):\n",
    "            \n",
    "            key = 'analyze_alg_cheap_comp_seed={}_g={}_learn_alg={}'.format(i_seed, gs[i_x], learn_algs[i_y]).replace('.', ',')\n",
    "            ax[i_y, i_x].plot(signal_dicts[key]['aligned_graph_distances'], color='C0', alpha=0.6)\n",
    "            \n",
    "            if i_seed == 0:\n",
    "                ax[i_y, i_x].set_title(key.split('seed=0_')[-1])\n",
    "            \n",
    "figs_path = 'figs/alg_cheap_comp/'\n",
    "file_name = 'alg_cheap_comp_array.pdf'\n",
    "#file_name = 'g_lr_Wstd_seed{}.pdf'.format(n_seed)\n",
    "fig.savefig(os.path.join(figs_path, file_name), dpi=300, format='pdf')"
   ]
  },
  {
   "cell_type": "code",
   "execution_count": null,
   "id": "95461278",
   "metadata": {},
   "outputs": [],
   "source": [
    "plt.plot(signal_dicts_list[0]['aligned_graph_distances'])"
   ]
  },
  {
   "cell_type": "code",
   "execution_count": null,
   "id": "704a0b4e",
   "metadata": {},
   "outputs": [],
   "source": [
    "top = signal_dicts_list[0]['aligned_graph_distances']\n",
    "np.amin(np.where(top > 0)[0])"
   ]
  },
  {
   "cell_type": "code",
   "execution_count": null,
   "id": "8279398f",
   "metadata": {},
   "outputs": [],
   "source": [
    "fig, ax = plt.subplots(4, 2, figsize=(12, 16))\n",
    "n_seed = 4\n",
    "\n",
    "gs = [0.3, 0.6, 1, 1.2]\n",
    "lrs = [0.01, 0.001]\n",
    "for i_x in range(4):\n",
    "    for i_y in range(2):\n",
    "        for i_seed in range(n_seed, n_seed + 1):\n",
    "            \n",
    "            T = int(40 / lrs[i_y])\n",
    "            CI = int(0.5 / lrs[i_y])\n",
    "            \n",
    "            key = 'analyze_phase_1_deep_seed={}_g={}_lr={}'.format(i_seed, gs[i_x], lrs[i_y]).replace('.', ',')\n",
    "            ax[i_x, i_y].plot(np.arange(CI, T, CI), signal_dicts[key]['aligned_graph_distances'], color='C0', alpha=0.6)\n",
    "            ax[i_x, i_y].plot(np.arange(0, T, CI), signal_dicts[key]['W_std'], color='C4', alpha=0.6)\n",
    "            \n",
    "            if i_seed == 0:\n",
    "                ax[i_x, i_y].set_title(key.split('seed=0_')[-1])\n",
    "            \n",
    "figs_path = 'figs/phase_1'\n",
    "file_name = 'g_lr_Wstd_seed{}.pdf'.format(n_seed)\n",
    "fig.savefig(os.path.join(figs_path, file_name), dpi=300, format='pdf')"
   ]
  },
  {
   "cell_type": "code",
   "execution_count": null,
   "id": "9fafdf93",
   "metadata": {},
   "outputs": [],
   "source": [
    "#aligned thing\n",
    "for i_stat in range(6):\n",
    "    fig, ax = plt.subplots(4, 2, figsize=(12, 16))\n",
    "\n",
    "    #i_stat = 5\n",
    "    stats = ['W_PC', 'A_PC', 'W_SR', 'W_mean', 'W_std', 'loss']\n",
    "    stat = stats[i_stat]\n",
    "\n",
    "    y_min = np.inf\n",
    "    y_max = -np.inf\n",
    "\n",
    "    gs = [0.3, 0.6, 1, 1.2]\n",
    "    lrs = [0.01, 0.001]\n",
    "    for i_x in range(4):\n",
    "        for i_y in range(2):\n",
    "            for i_seed in range(5):\n",
    "\n",
    "                T = int(40 / lrs[i_y])\n",
    "                CI = int(0.5 / lrs[i_y])\n",
    "\n",
    "                x = np.arange(0, T, CI)\n",
    "\n",
    "                key = 'analyze_phase_1_deep_seed={}_g={}_lr={}'.format(i_seed, gs[i_x], lrs[i_y]).replace('.', ',')\n",
    "                topological_distance = signal_dicts[key]['aligned_graph_distances']\n",
    "                x_align = np.amin(np.where(np.logical_and(topological_distance > 0,\n",
    "                                                          np.roll(topological_distance, -1) > 0,\n",
    "                                                          np.roll(topological_distance, -2) > 0))[0]) * CI\n",
    "                \n",
    "                \n",
    "                y_stat = signal_dicts[key][stat]\n",
    "                ax[i_x, i_y].plot(x - x_align, y_stat, color='C{}'.format(i_stat + 1), alpha=0.6)\n",
    "                ax[i_x, i_y].axvline(x=0, color='k', linestyle='--')\n",
    "\n",
    "                if np.amin(y_stat) < y_min:\n",
    "                    y_min = np.amin(y_stat)\n",
    "                if np.amax(y_stat) > y_max:\n",
    "                    y_max = np.amax(y_stat)\n",
    "\n",
    "                if i_seed == 0:\n",
    "                    ax[i_x, i_y].set_title(key.split('seed=0_')[-1])\n",
    "\n",
    "    for i_x in range(4):\n",
    "        for i_y in range(2):\n",
    "            diff = y_max - y_min\n",
    "            ax[i_x, i_y].set_ylim([y_min - 0.05 * diff, y_max + 0.05 * diff])\n",
    "\n",
    "    figs_path = 'figs/phase_1'\n",
    "    file_name = 'g_lr_{}_aligned_roll2.pdf'.format(stat)\n",
    "    #fig.savefig(os.path.join(figs_path, file_name), dpi=300, format='pdf')"
   ]
  },
  {
   "cell_type": "code",
   "execution_count": null,
   "id": "31182ffe",
   "metadata": {},
   "outputs": [],
   "source": [
    "#aligned thing\n",
    "fig, ax = plt.subplots(4, 2, figsize=(12, 16))\n",
    "\n",
    "#i_stat = 5\n",
    "#stats = ['W_PC', 'A_PC', 'W_SR', 'W_mean', 'W_std', 'loss']\n",
    "#stat = stats[i_stat]\n",
    "\n",
    "y_min = np.inf\n",
    "y_max = -np.inf\n",
    "\n",
    "gs = [0.3, 0.6, 1, 1.2]\n",
    "lrs = [0.01, 0.001]\n",
    "for i_x in range(4):\n",
    "    for i_y in range(2):\n",
    "        for i_seed in range(5):\n",
    "\n",
    "            T = int(40 / lrs[i_y])\n",
    "            CI = int(0.5 / lrs[i_y])\n",
    "\n",
    "            x = np.arange(0, T, CI)\n",
    "\n",
    "            key = 'analyze_phase_1_deep_seed={}_g={}_lr={}'.format(i_seed, gs[i_x], lrs[i_y]).replace('.', ',')\n",
    "            topological_distance = signal_dicts[key]['aligned_graph_distances']\n",
    "            x_align = np.amin(np.where(topological_distance > 0)[0]) * CI\n",
    "\n",
    "            colors = ['C3', 'C7', 'C8']\n",
    "            for i_stat, stat in enumerate(['W_SR', 'W_2eig', 'W_3eig']):\n",
    "                col = colors[i_stat]\n",
    "                y_stat = signal_dicts[key][stat]\n",
    "                ax[i_x, i_y].plot(x - x_align, y_stat, color=col, alpha=0.6)\n",
    "                ax[i_x, i_y].axvline(x=0, color='k', linestyle='--')\n",
    "\n",
    "                if np.amin(y_stat) < y_min:\n",
    "                    y_min = np.amin(y_stat)\n",
    "                if np.amax(y_stat) > y_max:\n",
    "                    y_max = np.amax(y_stat)\n",
    "\n",
    "            if i_seed == 0:\n",
    "                ax[i_x, i_y].set_title(key.split('seed=0_')[-1])\n",
    "\n",
    "for i_x in range(4):\n",
    "    for i_y in range(2):\n",
    "        diff = y_max - y_min\n",
    "        ax[i_x, i_y].set_ylim([y_min - 0.05 * diff, y_max + 0.05 * diff])\n",
    "\n",
    "figs_path = 'figs/phase_1'\n",
    "file_name = 'g_lr_{}_aligned_0roll_3eigs.pdf'.format(stat)\n",
    "fig.savefig(os.path.join(figs_path, file_name), dpi=300, format='pdf')"
   ]
  },
  {
   "cell_type": "code",
   "execution_count": null,
   "id": "a18bfd79",
   "metadata": {},
   "outputs": [],
   "source": [
    "np.roll(topological_distance, -1)"
   ]
  },
  {
   "cell_type": "code",
   "execution_count": null,
   "id": "82016305",
   "metadata": {},
   "outputs": [],
   "source": [
    "np.absolute(1+1j)"
   ]
  },
  {
   "cell_type": "code",
   "execution_count": null,
   "id": "0e464307",
   "metadata": {},
   "outputs": [],
   "source": [
    "0 > np.inf"
   ]
  },
  {
   "cell_type": "code",
   "execution_count": null,
   "id": "44a70235",
   "metadata": {},
   "outputs": [],
   "source": []
  },
  {
   "cell_type": "code",
   "execution_count": null,
   "id": "0db4a76f",
   "metadata": {},
   "outputs": [],
   "source": [
    "indices, checkpoints = unpack_analysis_results('/scratch/oem214/learning-dynamics/results/analyze_phase_1_deep_seed=0_g=0,3_lr=0,001/')"
   ]
  },
  {
   "cell_type": "code",
   "execution_count": null,
   "id": "82112559",
   "metadata": {},
   "outputs": [],
   "source": [
    "checkpoints.keys()"
   ]
  },
  {
   "cell_type": "code",
   "execution_count": null,
   "id": "d3a7b0cd",
   "metadata": {},
   "outputs": [],
   "source": [
    "eigs, vecs = np.linalg.eig(checkpoints['checkpoint_39000']['rnn'].W_rec)"
   ]
  },
  {
   "cell_type": "code",
   "execution_count": null,
   "id": "1b92e9e4",
   "metadata": {},
   "outputs": [],
   "source": [
    "plt.plot(np.abs(eigs))"
   ]
  },
  {
   "cell_type": "code",
   "execution_count": null,
   "id": "cf46d62d",
   "metadata": {},
   "outputs": [],
   "source": [
    "abs_eigs = np.abs(eigs)\n",
    "np.square(np.sqrt(abs_eigs).sum()) / abs_eigs.sum()"
   ]
  },
  {
   "cell_type": "code",
   "execution_count": null,
   "id": "dfda6c06",
   "metadata": {},
   "outputs": [],
   "source": [
    "M = result['aligned_graph_distances']\n",
    "M = M + M.T\n",
    "fig = plt.figure()\n",
    "plt.imshow(M, cmap='RdBu_r')"
   ]
  },
  {
   "cell_type": "code",
   "execution_count": null,
   "id": "d7d20eb8",
   "metadata": {},
   "outputs": [],
   "source": [
    "plt.figure()\n",
    "plt.imshow(result['calculation_check'])"
   ]
  },
  {
   "cell_type": "code",
   "execution_count": null,
   "id": "99dec128",
   "metadata": {},
   "outputs": [],
   "source": []
  },
  {
   "cell_type": "code",
   "execution_count": null,
   "id": "ddc5f102",
   "metadata": {},
   "outputs": [],
   "source": [
    "i_1 = 4900\n",
    "i_2 = 4905\n",
    "\n",
    "checkpoint_1 = checkpoints['checkpoint_{}'.format(i_1)]\n",
    "checkpoint_2 = checkpoints['checkpoint_{}'.format(i_2)]\n",
    "\n",
    "print(M[indices.index(i_1), indices.index(i_2)])\n",
    "\n",
    "align_checkpoints_based_on_output(checkpoint_2, checkpoint_1, n_inputs=6)\n",
    "plot_input_dependent_topology(checkpoint_1)\n",
    "plot_input_dependent_topology(checkpoint_2)"
   ]
  },
  {
   "cell_type": "code",
   "execution_count": null,
   "id": "bdd6b45f",
   "metadata": {},
   "outputs": [],
   "source": [
    "plt.hist(np.log10(M + 0.0001).flatten(), bins=100)"
   ]
  },
  {
   "cell_type": "code",
   "execution_count": null,
   "id": "ec686dc5",
   "metadata": {},
   "outputs": [],
   "source": [
    "figs_path = 'figs/geometry/'\n",
    "for dist in ['PC1_distances', 'PC2_distances', 'PC3_distances']:\n",
    "    M = result[dist]\n",
    "    M = M + M.T\n",
    "    fig = plt.figure()\n",
    "    #plt.imshow(np.log10(M + 0.001))\n",
    "    plt.imshow(M)\n",
    "    plt.colorbar()\n",
    "    \n",
    "    file_name = (dist+'_mat.pdf').replace('_', '-')\n",
    "    fig.savefig(os.path.join(figs_path, file_name), dpi=300, format='pdf')\n",
    "    \n",
    "    colors = ['C0', 'C1'] * 20\n",
    "    fig = plot_3d_MDS_from_distance_matrix(M, np.array(result['job_indices']), alpha=0.2, colors=colors, return_fig=True)\n",
    "    file_name = (dist+'_mds.pdf').replace('_', '-')\n",
    "    fig.savefig(os.path.join(figs_path, file_name), dpi=300, format='pdf')"
   ]
  },
  {
   "cell_type": "code",
   "execution_count": null,
   "id": "fa0bcc18",
   "metadata": {},
   "outputs": [],
   "source": [
    "C = np.random.normal(0, 1, (1000, 3))\n",
    "W1 = np.random.normal(0, 1, (3, 100))\n",
    "W2 = np.random.normal(0, 1, (3, 100))\n",
    "A = C.dot(W1)\n",
    "B = C.dot(W2)\n",
    "\n",
    "cca = CCA(n_components=3)\n",
    "cca.fit(A, B)\n",
    "cca.score(A, B)"
   ]
  },
  {
   "cell_type": "code",
   "execution_count": null,
   "id": "24d6ea41",
   "metadata": {},
   "outputs": [],
   "source": []
  },
  {
   "cell_type": "code",
   "execution_count": null,
   "id": "0a7f7d82",
   "metadata": {
    "scrolled": true
   },
   "outputs": [],
   "source": [
    "%matplotlib notebook\n",
    "M = result['aligned_graph_distances']\n",
    "M = M + M.T\n",
    "colors = ['C0', 'C1'] * 4\n",
    "plot_3d_MDS_from_distance_matrix(M, np.array(result['job_indices']), alpha=0.2, colors=colors)"
   ]
  },
  {
   "cell_type": "code",
   "execution_count": null,
   "id": "36be582d",
   "metadata": {},
   "outputs": [],
   "source": [
    "colors = ['C0'] * 1\n",
    "plot_3d_tSNE_from_distance_matrix(relu.f(M[:2000,:2000]), np.array(result['job_indices'][:2000]), alpha=0.2, colors=colors)"
   ]
  },
  {
   "cell_type": "code",
   "execution_count": null,
   "id": "c30633d3",
   "metadata": {},
   "outputs": [],
   "source": [
    "%matplotlib notebook\n",
    "colors = ['C0', 'C1'] * 5\n",
    "fig = plot_3d_MDS_from_distance_matrix(np.abs(np.log10(M+0.001)), np.array(result['job_indices']),\n",
    "                                       alpha=0.2, colors=colors,\n",
    "                                       return_fig=True)"
   ]
  },
  {
   "cell_type": "code",
   "execution_count": null,
   "id": "87dd9702",
   "metadata": {},
   "outputs": [],
   "source": [
    "figs_path = 'figs/geometry/'\n",
    "file_name = ('tanhrelu_svcca'+'_mds.pdf').replace('_', '-')\n",
    "fig.savefig(os.path.join(figs_path, file_name), dpi=300, format='pdf')"
   ]
  },
  {
   "cell_type": "code",
   "execution_count": null,
   "id": "7a06e8c2",
   "metadata": {},
   "outputs": [],
   "source": []
  },
  {
   "cell_type": "code",
   "execution_count": null,
   "id": "7499dce2",
   "metadata": {},
   "outputs": [],
   "source": [
    "result['job_indices']"
   ]
  },
  {
   "cell_type": "code",
   "execution_count": null,
   "id": "7e7954ad",
   "metadata": {},
   "outputs": [],
   "source": [
    "saved_run_root_name = root_name\n",
    "saved_runs_dir = 'saved_runs/'\n",
    "analysis_job_names = ['analyze_' + sr for sr in os.listdir(saved_runs_dir)\n",
    "                      if saved_run_root_name in sr]\n",
    "analysis_job_names = sorted(analysis_job_names)"
   ]
  },
  {
   "cell_type": "code",
   "execution_count": null,
   "id": "76d1da63",
   "metadata": {},
   "outputs": [],
   "source": [
    "analysis_job_names"
   ]
  },
  {
   "cell_type": "code",
   "execution_count": null,
   "id": "85f121c0",
   "metadata": {},
   "outputs": [],
   "source": [
    "plt.figure()\n",
    "plt.hist(np.log10(M.flatten()+0.0001), bins=100)"
   ]
  },
  {
   "cell_type": "code",
   "execution_count": null,
   "id": "d6cd1cb5",
   "metadata": {},
   "outputs": [],
   "source": [
    "signals = unpack_compare_result('cross_compare_tanhrelu_svcca', checkpoint_stats={'test_loss': get_checkpoint_loss})"
   ]
  },
  {
   "cell_type": "code",
   "execution_count": null,
   "id": "12c06d54",
   "metadata": {},
   "outputs": [],
   "source": [
    "!ls ../results/compare_tanhrelu*"
   ]
  }
 ],
 "metadata": {
  "kernelspec": {
   "display_name": "Python 3",
   "language": "python",
   "name": "python3"
  },
  "language_info": {
   "codemirror_mode": {
    "name": "ipython",
    "version": 3
   },
   "file_extension": ".py",
   "mimetype": "text/x-python",
   "name": "python",
   "nbconvert_exporter": "python",
   "pygments_lexer": "ipython3",
   "version": "3.8.5"
  }
 },
 "nbformat": 4,
 "nbformat_minor": 5
}
